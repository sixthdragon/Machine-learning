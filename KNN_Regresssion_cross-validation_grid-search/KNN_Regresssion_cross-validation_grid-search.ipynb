{
 "cells": [
  {
   "cell_type": "code",
   "execution_count": 1,
   "id": "2bf6dd56",
   "metadata": {},
   "outputs": [],
   "source": [
    "import pandas as pd\n",
    "import numpy as np\n",
    "import matplotlib.pyplot as plt\n",
    "import seaborn as sns\n",
    "%matplotlib inline\n",
    "\n",
    "import warnings\n",
    "warnings.filterwarnings('ignore')"
   ]
  },
  {
   "cell_type": "code",
   "execution_count": 2,
   "id": "87195a93",
   "metadata": {},
   "outputs": [
    {
     "data": {
      "text/html": [
       "<div>\n",
       "<style scoped>\n",
       "    .dataframe tbody tr th:only-of-type {\n",
       "        vertical-align: middle;\n",
       "    }\n",
       "\n",
       "    .dataframe tbody tr th {\n",
       "        vertical-align: top;\n",
       "    }\n",
       "\n",
       "    .dataframe thead th {\n",
       "        text-align: right;\n",
       "    }\n",
       "</style>\n",
       "<table border=\"1\" class=\"dataframe\">\n",
       "  <thead>\n",
       "    <tr style=\"text-align: right;\">\n",
       "      <th></th>\n",
       "      <th>Avg. Area Income</th>\n",
       "      <th>Avg. Area House Age</th>\n",
       "      <th>Avg. Area Number of Rooms</th>\n",
       "      <th>Avg. Area Number of Bedrooms</th>\n",
       "      <th>Area Population</th>\n",
       "      <th>Price</th>\n",
       "      <th>Address</th>\n",
       "    </tr>\n",
       "  </thead>\n",
       "  <tbody>\n",
       "    <tr>\n",
       "      <th>0</th>\n",
       "      <td>79545.458574</td>\n",
       "      <td>5.682861</td>\n",
       "      <td>7.009188</td>\n",
       "      <td>4.09</td>\n",
       "      <td>23086.800503</td>\n",
       "      <td>1.059034e+06</td>\n",
       "      <td>208 Michael Ferry Apt. 674\\nLaurabury, NE 3701...</td>\n",
       "    </tr>\n",
       "    <tr>\n",
       "      <th>1</th>\n",
       "      <td>79248.642455</td>\n",
       "      <td>6.002900</td>\n",
       "      <td>6.730821</td>\n",
       "      <td>3.09</td>\n",
       "      <td>40173.072174</td>\n",
       "      <td>1.505891e+06</td>\n",
       "      <td>188 Johnson Views Suite 079\\nLake Kathleen, CA...</td>\n",
       "    </tr>\n",
       "    <tr>\n",
       "      <th>2</th>\n",
       "      <td>61287.067179</td>\n",
       "      <td>5.865890</td>\n",
       "      <td>8.512727</td>\n",
       "      <td>5.13</td>\n",
       "      <td>36882.159400</td>\n",
       "      <td>1.058988e+06</td>\n",
       "      <td>9127 Elizabeth Stravenue\\nDanieltown, WI 06482...</td>\n",
       "    </tr>\n",
       "    <tr>\n",
       "      <th>3</th>\n",
       "      <td>63345.240046</td>\n",
       "      <td>7.188236</td>\n",
       "      <td>5.586729</td>\n",
       "      <td>3.26</td>\n",
       "      <td>34310.242831</td>\n",
       "      <td>1.260617e+06</td>\n",
       "      <td>USS Barnett\\nFPO AP 44820</td>\n",
       "    </tr>\n",
       "    <tr>\n",
       "      <th>4</th>\n",
       "      <td>59982.197226</td>\n",
       "      <td>5.040555</td>\n",
       "      <td>7.839388</td>\n",
       "      <td>4.23</td>\n",
       "      <td>26354.109472</td>\n",
       "      <td>6.309435e+05</td>\n",
       "      <td>USNS Raymond\\nFPO AE 09386</td>\n",
       "    </tr>\n",
       "  </tbody>\n",
       "</table>\n",
       "</div>"
      ],
      "text/plain": [
       "   Avg. Area Income  Avg. Area House Age  Avg. Area Number of Rooms  \\\n",
       "0      79545.458574             5.682861                   7.009188   \n",
       "1      79248.642455             6.002900                   6.730821   \n",
       "2      61287.067179             5.865890                   8.512727   \n",
       "3      63345.240046             7.188236                   5.586729   \n",
       "4      59982.197226             5.040555                   7.839388   \n",
       "\n",
       "   Avg. Area Number of Bedrooms  Area Population         Price  \\\n",
       "0                          4.09     23086.800503  1.059034e+06   \n",
       "1                          3.09     40173.072174  1.505891e+06   \n",
       "2                          5.13     36882.159400  1.058988e+06   \n",
       "3                          3.26     34310.242831  1.260617e+06   \n",
       "4                          4.23     26354.109472  6.309435e+05   \n",
       "\n",
       "                                             Address  \n",
       "0  208 Michael Ferry Apt. 674\\nLaurabury, NE 3701...  \n",
       "1  188 Johnson Views Suite 079\\nLake Kathleen, CA...  \n",
       "2  9127 Elizabeth Stravenue\\nDanieltown, WI 06482...  \n",
       "3                          USS Barnett\\nFPO AP 44820  \n",
       "4                         USNS Raymond\\nFPO AE 09386  "
      ]
     },
     "execution_count": 2,
     "metadata": {},
     "output_type": "execute_result"
    }
   ],
   "source": [
    "USAhousing = pd.read_csv(r'C:\\Users\\user\\Downloads\\cargoflash\\data\\USA_Housing.csv')\n",
    "USAhousing.head()"
   ]
  },
  {
   "cell_type": "code",
   "execution_count": 3,
   "id": "870f5950",
   "metadata": {},
   "outputs": [
    {
     "name": "stdout",
     "output_type": "stream",
     "text": [
      "<class 'pandas.core.frame.DataFrame'>\n",
      "RangeIndex: 5000 entries, 0 to 4999\n",
      "Data columns (total 7 columns):\n",
      " #   Column                        Non-Null Count  Dtype  \n",
      "---  ------                        --------------  -----  \n",
      " 0   Avg. Area Income              5000 non-null   float64\n",
      " 1   Avg. Area House Age           5000 non-null   float64\n",
      " 2   Avg. Area Number of Rooms     5000 non-null   float64\n",
      " 3   Avg. Area Number of Bedrooms  5000 non-null   float64\n",
      " 4   Area Population               5000 non-null   float64\n",
      " 5   Price                         5000 non-null   float64\n",
      " 6   Address                       5000 non-null   object \n",
      "dtypes: float64(6), object(1)\n",
      "memory usage: 273.6+ KB\n"
     ]
    }
   ],
   "source": [
    "USAhousing.info()"
   ]
  },
  {
   "cell_type": "code",
   "execution_count": 4,
   "id": "3f5cde8b",
   "metadata": {},
   "outputs": [],
   "source": [
    "USAhousing = USAhousing.drop(\"Address\",axis=1)"
   ]
  },
  {
   "cell_type": "code",
   "execution_count": 5,
   "id": "bf4c70cc",
   "metadata": {},
   "outputs": [
    {
     "data": {
      "text/html": [
       "<div>\n",
       "<style scoped>\n",
       "    .dataframe tbody tr th:only-of-type {\n",
       "        vertical-align: middle;\n",
       "    }\n",
       "\n",
       "    .dataframe tbody tr th {\n",
       "        vertical-align: top;\n",
       "    }\n",
       "\n",
       "    .dataframe thead th {\n",
       "        text-align: right;\n",
       "    }\n",
       "</style>\n",
       "<table border=\"1\" class=\"dataframe\">\n",
       "  <thead>\n",
       "    <tr style=\"text-align: right;\">\n",
       "      <th></th>\n",
       "      <th>Avg. Area Income</th>\n",
       "      <th>Avg. Area House Age</th>\n",
       "      <th>Avg. Area Number of Rooms</th>\n",
       "      <th>Avg. Area Number of Bedrooms</th>\n",
       "      <th>Area Population</th>\n",
       "      <th>Price</th>\n",
       "    </tr>\n",
       "  </thead>\n",
       "  <tbody>\n",
       "    <tr>\n",
       "      <th>count</th>\n",
       "      <td>5000.000000</td>\n",
       "      <td>5000.000000</td>\n",
       "      <td>5000.000000</td>\n",
       "      <td>5000.000000</td>\n",
       "      <td>5000.000000</td>\n",
       "      <td>5.000000e+03</td>\n",
       "    </tr>\n",
       "    <tr>\n",
       "      <th>mean</th>\n",
       "      <td>68583.108984</td>\n",
       "      <td>5.977222</td>\n",
       "      <td>6.987792</td>\n",
       "      <td>3.981330</td>\n",
       "      <td>36163.516039</td>\n",
       "      <td>1.232073e+06</td>\n",
       "    </tr>\n",
       "    <tr>\n",
       "      <th>std</th>\n",
       "      <td>10657.991214</td>\n",
       "      <td>0.991456</td>\n",
       "      <td>1.005833</td>\n",
       "      <td>1.234137</td>\n",
       "      <td>9925.650114</td>\n",
       "      <td>3.531176e+05</td>\n",
       "    </tr>\n",
       "    <tr>\n",
       "      <th>min</th>\n",
       "      <td>17796.631190</td>\n",
       "      <td>2.644304</td>\n",
       "      <td>3.236194</td>\n",
       "      <td>2.000000</td>\n",
       "      <td>172.610686</td>\n",
       "      <td>1.593866e+04</td>\n",
       "    </tr>\n",
       "    <tr>\n",
       "      <th>25%</th>\n",
       "      <td>61480.562388</td>\n",
       "      <td>5.322283</td>\n",
       "      <td>6.299250</td>\n",
       "      <td>3.140000</td>\n",
       "      <td>29403.928702</td>\n",
       "      <td>9.975771e+05</td>\n",
       "    </tr>\n",
       "    <tr>\n",
       "      <th>50%</th>\n",
       "      <td>68804.286404</td>\n",
       "      <td>5.970429</td>\n",
       "      <td>7.002902</td>\n",
       "      <td>4.050000</td>\n",
       "      <td>36199.406689</td>\n",
       "      <td>1.232669e+06</td>\n",
       "    </tr>\n",
       "    <tr>\n",
       "      <th>75%</th>\n",
       "      <td>75783.338666</td>\n",
       "      <td>6.650808</td>\n",
       "      <td>7.665871</td>\n",
       "      <td>4.490000</td>\n",
       "      <td>42861.290769</td>\n",
       "      <td>1.471210e+06</td>\n",
       "    </tr>\n",
       "    <tr>\n",
       "      <th>max</th>\n",
       "      <td>107701.748378</td>\n",
       "      <td>9.519088</td>\n",
       "      <td>10.759588</td>\n",
       "      <td>6.500000</td>\n",
       "      <td>69621.713378</td>\n",
       "      <td>2.469066e+06</td>\n",
       "    </tr>\n",
       "  </tbody>\n",
       "</table>\n",
       "</div>"
      ],
      "text/plain": [
       "       Avg. Area Income  Avg. Area House Age  Avg. Area Number of Rooms  \\\n",
       "count       5000.000000          5000.000000                5000.000000   \n",
       "mean       68583.108984             5.977222                   6.987792   \n",
       "std        10657.991214             0.991456                   1.005833   \n",
       "min        17796.631190             2.644304                   3.236194   \n",
       "25%        61480.562388             5.322283                   6.299250   \n",
       "50%        68804.286404             5.970429                   7.002902   \n",
       "75%        75783.338666             6.650808                   7.665871   \n",
       "max       107701.748378             9.519088                  10.759588   \n",
       "\n",
       "       Avg. Area Number of Bedrooms  Area Population         Price  \n",
       "count                   5000.000000      5000.000000  5.000000e+03  \n",
       "mean                       3.981330     36163.516039  1.232073e+06  \n",
       "std                        1.234137      9925.650114  3.531176e+05  \n",
       "min                        2.000000       172.610686  1.593866e+04  \n",
       "25%                        3.140000     29403.928702  9.975771e+05  \n",
       "50%                        4.050000     36199.406689  1.232669e+06  \n",
       "75%                        4.490000     42861.290769  1.471210e+06  \n",
       "max                        6.500000     69621.713378  2.469066e+06  "
      ]
     },
     "execution_count": 5,
     "metadata": {},
     "output_type": "execute_result"
    }
   ],
   "source": [
    "USAhousing.describe()"
   ]
  },
  {
   "cell_type": "code",
   "execution_count": 6,
   "id": "5ac27ee0",
   "metadata": {},
   "outputs": [
    {
     "data": {
      "text/html": [
       "<div>\n",
       "<style scoped>\n",
       "    .dataframe tbody tr th:only-of-type {\n",
       "        vertical-align: middle;\n",
       "    }\n",
       "\n",
       "    .dataframe tbody tr th {\n",
       "        vertical-align: top;\n",
       "    }\n",
       "\n",
       "    .dataframe thead th {\n",
       "        text-align: right;\n",
       "    }\n",
       "</style>\n",
       "<table border=\"1\" class=\"dataframe\">\n",
       "  <thead>\n",
       "    <tr style=\"text-align: right;\">\n",
       "      <th></th>\n",
       "      <th>Avg. Area Income</th>\n",
       "      <th>Avg. Area House Age</th>\n",
       "      <th>Avg. Area Number of Rooms</th>\n",
       "      <th>Avg. Area Number of Bedrooms</th>\n",
       "      <th>Area Population</th>\n",
       "      <th>Price</th>\n",
       "    </tr>\n",
       "  </thead>\n",
       "  <tbody>\n",
       "    <tr>\n",
       "      <th>0</th>\n",
       "      <td>79545.458574</td>\n",
       "      <td>5.682861</td>\n",
       "      <td>7.009188</td>\n",
       "      <td>4.09</td>\n",
       "      <td>23086.800503</td>\n",
       "      <td>105.903356</td>\n",
       "    </tr>\n",
       "    <tr>\n",
       "      <th>1</th>\n",
       "      <td>79248.642455</td>\n",
       "      <td>6.002900</td>\n",
       "      <td>6.730821</td>\n",
       "      <td>3.09</td>\n",
       "      <td>40173.072174</td>\n",
       "      <td>150.589091</td>\n",
       "    </tr>\n",
       "    <tr>\n",
       "      <th>2</th>\n",
       "      <td>61287.067179</td>\n",
       "      <td>5.865890</td>\n",
       "      <td>8.512727</td>\n",
       "      <td>5.13</td>\n",
       "      <td>36882.159400</td>\n",
       "      <td>105.898799</td>\n",
       "    </tr>\n",
       "    <tr>\n",
       "      <th>3</th>\n",
       "      <td>63345.240046</td>\n",
       "      <td>7.188236</td>\n",
       "      <td>5.586729</td>\n",
       "      <td>3.26</td>\n",
       "      <td>34310.242831</td>\n",
       "      <td>126.061681</td>\n",
       "    </tr>\n",
       "    <tr>\n",
       "      <th>4</th>\n",
       "      <td>59982.197226</td>\n",
       "      <td>5.040555</td>\n",
       "      <td>7.839388</td>\n",
       "      <td>4.23</td>\n",
       "      <td>26354.109472</td>\n",
       "      <td>63.094349</td>\n",
       "    </tr>\n",
       "  </tbody>\n",
       "</table>\n",
       "</div>"
      ],
      "text/plain": [
       "   Avg. Area Income  Avg. Area House Age  Avg. Area Number of Rooms  \\\n",
       "0      79545.458574             5.682861                   7.009188   \n",
       "1      79248.642455             6.002900                   6.730821   \n",
       "2      61287.067179             5.865890                   8.512727   \n",
       "3      63345.240046             7.188236                   5.586729   \n",
       "4      59982.197226             5.040555                   7.839388   \n",
       "\n",
       "   Avg. Area Number of Bedrooms  Area Population       Price  \n",
       "0                          4.09     23086.800503  105.903356  \n",
       "1                          3.09     40173.072174  150.589091  \n",
       "2                          5.13     36882.159400  105.898799  \n",
       "3                          3.26     34310.242831  126.061681  \n",
       "4                          4.23     26354.109472   63.094349  "
      ]
     },
     "execution_count": 6,
     "metadata": {},
     "output_type": "execute_result"
    }
   ],
   "source": [
    "USAhousing[\"Price\"] = USAhousing[\"Price\"]/10000\n",
    "USAhousing.head()"
   ]
  },
  {
   "cell_type": "code",
   "execution_count": 7,
   "id": "b999af4c",
   "metadata": {},
   "outputs": [
    {
     "data": {
      "text/html": [
       "<div>\n",
       "<style scoped>\n",
       "    .dataframe tbody tr th:only-of-type {\n",
       "        vertical-align: middle;\n",
       "    }\n",
       "\n",
       "    .dataframe tbody tr th {\n",
       "        vertical-align: top;\n",
       "    }\n",
       "\n",
       "    .dataframe thead th {\n",
       "        text-align: right;\n",
       "    }\n",
       "</style>\n",
       "<table border=\"1\" class=\"dataframe\">\n",
       "  <thead>\n",
       "    <tr style=\"text-align: right;\">\n",
       "      <th></th>\n",
       "      <th>Avg. Area Income</th>\n",
       "      <th>Avg. Area House Age</th>\n",
       "      <th>Avg. Area Number of Rooms</th>\n",
       "      <th>Avg. Area Number of Bedrooms</th>\n",
       "      <th>Area Population</th>\n",
       "      <th>Price</th>\n",
       "    </tr>\n",
       "  </thead>\n",
       "  <tbody>\n",
       "    <tr>\n",
       "      <th>0</th>\n",
       "      <td>7.954546</td>\n",
       "      <td>5.682861</td>\n",
       "      <td>7.009188</td>\n",
       "      <td>4.09</td>\n",
       "      <td>23086.800503</td>\n",
       "      <td>105.903356</td>\n",
       "    </tr>\n",
       "    <tr>\n",
       "      <th>1</th>\n",
       "      <td>7.924864</td>\n",
       "      <td>6.002900</td>\n",
       "      <td>6.730821</td>\n",
       "      <td>3.09</td>\n",
       "      <td>40173.072174</td>\n",
       "      <td>150.589091</td>\n",
       "    </tr>\n",
       "    <tr>\n",
       "      <th>2</th>\n",
       "      <td>6.128707</td>\n",
       "      <td>5.865890</td>\n",
       "      <td>8.512727</td>\n",
       "      <td>5.13</td>\n",
       "      <td>36882.159400</td>\n",
       "      <td>105.898799</td>\n",
       "    </tr>\n",
       "    <tr>\n",
       "      <th>3</th>\n",
       "      <td>6.334524</td>\n",
       "      <td>7.188236</td>\n",
       "      <td>5.586729</td>\n",
       "      <td>3.26</td>\n",
       "      <td>34310.242831</td>\n",
       "      <td>126.061681</td>\n",
       "    </tr>\n",
       "    <tr>\n",
       "      <th>4</th>\n",
       "      <td>5.998220</td>\n",
       "      <td>5.040555</td>\n",
       "      <td>7.839388</td>\n",
       "      <td>4.23</td>\n",
       "      <td>26354.109472</td>\n",
       "      <td>63.094349</td>\n",
       "    </tr>\n",
       "  </tbody>\n",
       "</table>\n",
       "</div>"
      ],
      "text/plain": [
       "   Avg. Area Income  Avg. Area House Age  Avg. Area Number of Rooms  \\\n",
       "0          7.954546             5.682861                   7.009188   \n",
       "1          7.924864             6.002900                   6.730821   \n",
       "2          6.128707             5.865890                   8.512727   \n",
       "3          6.334524             7.188236                   5.586729   \n",
       "4          5.998220             5.040555                   7.839388   \n",
       "\n",
       "   Avg. Area Number of Bedrooms  Area Population       Price  \n",
       "0                          4.09     23086.800503  105.903356  \n",
       "1                          3.09     40173.072174  150.589091  \n",
       "2                          5.13     36882.159400  105.898799  \n",
       "3                          3.26     34310.242831  126.061681  \n",
       "4                          4.23     26354.109472   63.094349  "
      ]
     },
     "execution_count": 7,
     "metadata": {},
     "output_type": "execute_result"
    }
   ],
   "source": [
    "USAhousing[\"Avg. Area Income\"] = USAhousing[\"Avg. Area Income\"]/10000\n",
    "USAhousing.head()"
   ]
  },
  {
   "cell_type": "code",
   "execution_count": 8,
   "id": "2e9b3eec",
   "metadata": {},
   "outputs": [
    {
     "data": {
      "text/html": [
       "<div>\n",
       "<style scoped>\n",
       "    .dataframe tbody tr th:only-of-type {\n",
       "        vertical-align: middle;\n",
       "    }\n",
       "\n",
       "    .dataframe tbody tr th {\n",
       "        vertical-align: top;\n",
       "    }\n",
       "\n",
       "    .dataframe thead th {\n",
       "        text-align: right;\n",
       "    }\n",
       "</style>\n",
       "<table border=\"1\" class=\"dataframe\">\n",
       "  <thead>\n",
       "    <tr style=\"text-align: right;\">\n",
       "      <th></th>\n",
       "      <th>Avg. Area Income</th>\n",
       "      <th>Avg. Area House Age</th>\n",
       "      <th>Avg. Area Number of Rooms</th>\n",
       "      <th>Avg. Area Number of Bedrooms</th>\n",
       "      <th>Area Population</th>\n",
       "      <th>Price</th>\n",
       "    </tr>\n",
       "  </thead>\n",
       "  <tbody>\n",
       "    <tr>\n",
       "      <th>0</th>\n",
       "      <td>7.954546</td>\n",
       "      <td>5.682861</td>\n",
       "      <td>7.009188</td>\n",
       "      <td>4.09</td>\n",
       "      <td>2.308680</td>\n",
       "      <td>105.903356</td>\n",
       "    </tr>\n",
       "    <tr>\n",
       "      <th>1</th>\n",
       "      <td>7.924864</td>\n",
       "      <td>6.002900</td>\n",
       "      <td>6.730821</td>\n",
       "      <td>3.09</td>\n",
       "      <td>4.017307</td>\n",
       "      <td>150.589091</td>\n",
       "    </tr>\n",
       "    <tr>\n",
       "      <th>2</th>\n",
       "      <td>6.128707</td>\n",
       "      <td>5.865890</td>\n",
       "      <td>8.512727</td>\n",
       "      <td>5.13</td>\n",
       "      <td>3.688216</td>\n",
       "      <td>105.898799</td>\n",
       "    </tr>\n",
       "    <tr>\n",
       "      <th>3</th>\n",
       "      <td>6.334524</td>\n",
       "      <td>7.188236</td>\n",
       "      <td>5.586729</td>\n",
       "      <td>3.26</td>\n",
       "      <td>3.431024</td>\n",
       "      <td>126.061681</td>\n",
       "    </tr>\n",
       "    <tr>\n",
       "      <th>4</th>\n",
       "      <td>5.998220</td>\n",
       "      <td>5.040555</td>\n",
       "      <td>7.839388</td>\n",
       "      <td>4.23</td>\n",
       "      <td>2.635411</td>\n",
       "      <td>63.094349</td>\n",
       "    </tr>\n",
       "  </tbody>\n",
       "</table>\n",
       "</div>"
      ],
      "text/plain": [
       "   Avg. Area Income  Avg. Area House Age  Avg. Area Number of Rooms  \\\n",
       "0          7.954546             5.682861                   7.009188   \n",
       "1          7.924864             6.002900                   6.730821   \n",
       "2          6.128707             5.865890                   8.512727   \n",
       "3          6.334524             7.188236                   5.586729   \n",
       "4          5.998220             5.040555                   7.839388   \n",
       "\n",
       "   Avg. Area Number of Bedrooms  Area Population       Price  \n",
       "0                          4.09         2.308680  105.903356  \n",
       "1                          3.09         4.017307  150.589091  \n",
       "2                          5.13         3.688216  105.898799  \n",
       "3                          3.26         3.431024  126.061681  \n",
       "4                          4.23         2.635411   63.094349  "
      ]
     },
     "execution_count": 8,
     "metadata": {},
     "output_type": "execute_result"
    }
   ],
   "source": [
    "USAhousing[\"Area Population\"] = USAhousing[\"Area Population\"]/10000\n",
    "USAhousing.head()"
   ]
  },
  {
   "cell_type": "code",
   "execution_count": 9,
   "id": "dcea989d",
   "metadata": {},
   "outputs": [
    {
     "data": {
      "text/plain": [
       "Avg. Area Income                0\n",
       "Avg. Area House Age             0\n",
       "Avg. Area Number of Rooms       0\n",
       "Avg. Area Number of Bedrooms    0\n",
       "Area Population                 0\n",
       "Price                           0\n",
       "dtype: int64"
      ]
     },
     "execution_count": 9,
     "metadata": {},
     "output_type": "execute_result"
    }
   ],
   "source": [
    "USAhousing.isnull().sum()"
   ]
  },
  {
   "cell_type": "code",
   "execution_count": 10,
   "id": "7faca7f7",
   "metadata": {},
   "outputs": [
    {
     "data": {
      "text/html": [
       "<div>\n",
       "<style scoped>\n",
       "    .dataframe tbody tr th:only-of-type {\n",
       "        vertical-align: middle;\n",
       "    }\n",
       "\n",
       "    .dataframe tbody tr th {\n",
       "        vertical-align: top;\n",
       "    }\n",
       "\n",
       "    .dataframe thead th {\n",
       "        text-align: right;\n",
       "    }\n",
       "</style>\n",
       "<table border=\"1\" class=\"dataframe\">\n",
       "  <thead>\n",
       "    <tr style=\"text-align: right;\">\n",
       "      <th></th>\n",
       "      <th>Avg. Area Income</th>\n",
       "      <th>Avg. Area House Age</th>\n",
       "      <th>Avg. Area Number of Rooms</th>\n",
       "      <th>Avg. Area Number of Bedrooms</th>\n",
       "      <th>Area Population</th>\n",
       "      <th>Price</th>\n",
       "    </tr>\n",
       "  </thead>\n",
       "  <tbody>\n",
       "    <tr>\n",
       "      <th>count</th>\n",
       "      <td>5000.000000</td>\n",
       "      <td>5000.000000</td>\n",
       "      <td>5000.000000</td>\n",
       "      <td>5000.000000</td>\n",
       "      <td>5000.000000</td>\n",
       "      <td>5000.000000</td>\n",
       "    </tr>\n",
       "    <tr>\n",
       "      <th>mean</th>\n",
       "      <td>6.858311</td>\n",
       "      <td>5.977222</td>\n",
       "      <td>6.987792</td>\n",
       "      <td>3.981330</td>\n",
       "      <td>3.616352</td>\n",
       "      <td>123.207265</td>\n",
       "    </tr>\n",
       "    <tr>\n",
       "      <th>std</th>\n",
       "      <td>1.065799</td>\n",
       "      <td>0.991456</td>\n",
       "      <td>1.005833</td>\n",
       "      <td>1.234137</td>\n",
       "      <td>0.992565</td>\n",
       "      <td>35.311763</td>\n",
       "    </tr>\n",
       "    <tr>\n",
       "      <th>min</th>\n",
       "      <td>1.779663</td>\n",
       "      <td>2.644304</td>\n",
       "      <td>3.236194</td>\n",
       "      <td>2.000000</td>\n",
       "      <td>0.017261</td>\n",
       "      <td>1.593866</td>\n",
       "    </tr>\n",
       "    <tr>\n",
       "      <th>1%</th>\n",
       "      <td>4.379267</td>\n",
       "      <td>3.648537</td>\n",
       "      <td>4.620750</td>\n",
       "      <td>2.020000</td>\n",
       "      <td>1.398328</td>\n",
       "      <td>40.497304</td>\n",
       "    </tr>\n",
       "    <tr>\n",
       "      <th>5%</th>\n",
       "      <td>5.076821</td>\n",
       "      <td>4.316475</td>\n",
       "      <td>5.331007</td>\n",
       "      <td>2.150000</td>\n",
       "      <td>1.990285</td>\n",
       "      <td>65.174553</td>\n",
       "    </tr>\n",
       "    <tr>\n",
       "      <th>10%</th>\n",
       "      <td>5.504763</td>\n",
       "      <td>4.697755</td>\n",
       "      <td>5.681951</td>\n",
       "      <td>2.310000</td>\n",
       "      <td>2.350285</td>\n",
       "      <td>77.203177</td>\n",
       "    </tr>\n",
       "    <tr>\n",
       "      <th>25%</th>\n",
       "      <td>6.148056</td>\n",
       "      <td>5.322283</td>\n",
       "      <td>6.299250</td>\n",
       "      <td>3.140000</td>\n",
       "      <td>2.940393</td>\n",
       "      <td>99.757714</td>\n",
       "    </tr>\n",
       "    <tr>\n",
       "      <th>50%</th>\n",
       "      <td>6.880429</td>\n",
       "      <td>5.970429</td>\n",
       "      <td>7.002902</td>\n",
       "      <td>4.050000</td>\n",
       "      <td>3.619941</td>\n",
       "      <td>123.266938</td>\n",
       "    </tr>\n",
       "    <tr>\n",
       "      <th>75%</th>\n",
       "      <td>7.578334</td>\n",
       "      <td>6.650808</td>\n",
       "      <td>7.665871</td>\n",
       "      <td>4.490000</td>\n",
       "      <td>4.286129</td>\n",
       "      <td>147.121020</td>\n",
       "    </tr>\n",
       "    <tr>\n",
       "      <th>90%</th>\n",
       "      <td>8.208119</td>\n",
       "      <td>7.243978</td>\n",
       "      <td>8.274222</td>\n",
       "      <td>6.100000</td>\n",
       "      <td>4.881362</td>\n",
       "      <td>168.462095</td>\n",
       "    </tr>\n",
       "    <tr>\n",
       "      <th>95%</th>\n",
       "      <td>8.626243</td>\n",
       "      <td>7.609823</td>\n",
       "      <td>8.610227</td>\n",
       "      <td>6.290000</td>\n",
       "      <td>5.266009</td>\n",
       "      <td>181.357038</td>\n",
       "    </tr>\n",
       "    <tr>\n",
       "      <th>99%</th>\n",
       "      <td>9.376370</td>\n",
       "      <td>8.274282</td>\n",
       "      <td>9.295532</td>\n",
       "      <td>6.460000</td>\n",
       "      <td>5.997511</td>\n",
       "      <td>205.059799</td>\n",
       "    </tr>\n",
       "    <tr>\n",
       "      <th>max</th>\n",
       "      <td>10.770175</td>\n",
       "      <td>9.519088</td>\n",
       "      <td>10.759588</td>\n",
       "      <td>6.500000</td>\n",
       "      <td>6.962171</td>\n",
       "      <td>246.906559</td>\n",
       "    </tr>\n",
       "  </tbody>\n",
       "</table>\n",
       "</div>"
      ],
      "text/plain": [
       "       Avg. Area Income  Avg. Area House Age  Avg. Area Number of Rooms  \\\n",
       "count       5000.000000          5000.000000                5000.000000   \n",
       "mean           6.858311             5.977222                   6.987792   \n",
       "std            1.065799             0.991456                   1.005833   \n",
       "min            1.779663             2.644304                   3.236194   \n",
       "1%             4.379267             3.648537                   4.620750   \n",
       "5%             5.076821             4.316475                   5.331007   \n",
       "10%            5.504763             4.697755                   5.681951   \n",
       "25%            6.148056             5.322283                   6.299250   \n",
       "50%            6.880429             5.970429                   7.002902   \n",
       "75%            7.578334             6.650808                   7.665871   \n",
       "90%            8.208119             7.243978                   8.274222   \n",
       "95%            8.626243             7.609823                   8.610227   \n",
       "99%            9.376370             8.274282                   9.295532   \n",
       "max           10.770175             9.519088                  10.759588   \n",
       "\n",
       "       Avg. Area Number of Bedrooms  Area Population        Price  \n",
       "count                   5000.000000      5000.000000  5000.000000  \n",
       "mean                       3.981330         3.616352   123.207265  \n",
       "std                        1.234137         0.992565    35.311763  \n",
       "min                        2.000000         0.017261     1.593866  \n",
       "1%                         2.020000         1.398328    40.497304  \n",
       "5%                         2.150000         1.990285    65.174553  \n",
       "10%                        2.310000         2.350285    77.203177  \n",
       "25%                        3.140000         2.940393    99.757714  \n",
       "50%                        4.050000         3.619941   123.266938  \n",
       "75%                        4.490000         4.286129   147.121020  \n",
       "90%                        6.100000         4.881362   168.462095  \n",
       "95%                        6.290000         5.266009   181.357038  \n",
       "99%                        6.460000         5.997511   205.059799  \n",
       "max                        6.500000         6.962171   246.906559  "
      ]
     },
     "execution_count": 10,
     "metadata": {},
     "output_type": "execute_result"
    }
   ],
   "source": [
    "USAhousing.describe(percentiles = [.01,.05,.10,.25,.5,.75,.90,.95,.99])"
   ]
  },
  {
   "cell_type": "code",
   "execution_count": 11,
   "id": "c32b7aff",
   "metadata": {},
   "outputs": [
    {
     "data": {
      "text/plain": [
       "<AxesSubplot:>"
      ]
     },
     "execution_count": 11,
     "metadata": {},
     "output_type": "execute_result"
    },
    {
     "data": {
      "image/png": "[encoded data removed]",
      "text/plain": [
       "<Figure size 432x288 with 1 Axes>"
      ]
     },
     "metadata": {
      "needs_background": "light"
     },
     "output_type": "display_data"
    }
   ],
   "source": [
    "df = USAhousing.drop(\"Price\",axis=1)\n",
    "sns.boxplot(data=df, orient=\"h\", palette=\"Set2\")"
   ]
  },
  {
   "cell_type": "code",
   "execution_count": 12,
   "id": "09b22058",
   "metadata": {},
   "outputs": [
    {
     "data": {
      "text/plain": [
       "<AxesSubplot:xlabel='Price'>"
      ]
     },
     "execution_count": 12,
     "metadata": {},
     "output_type": "execute_result"
    },
    {
     "data": {
      "image/png": "[encoded data removed]",
      "text/plain": [
       "<Figure size 432x288 with 1 Axes>"
      ]
     },
     "metadata": {
      "needs_background": "light"
     },
     "output_type": "display_data"
    }
   ],
   "source": [
    "sns.boxplot(USAhousing['Price'])"
   ]
  },
  {
   "cell_type": "code",
   "execution_count": 13,
   "id": "d416269b",
   "metadata": {},
   "outputs": [
    {
     "data": {
      "text/plain": [
       "<AxesSubplot:xlabel='Price'>"
      ]
     },
     "execution_count": 13,
     "metadata": {},
     "output_type": "execute_result"
    },
    {
     "data": {
      "image/png": "[encoded data removed]",
      "text/plain": [
       "<Figure size 432x288 with 1 Axes>"
      ]
     },
     "metadata": {
      "needs_background": "light"
     },
     "output_type": "display_data"
    }
   ],
   "source": [
    "Q1 = USAhousing['Price'].quantile(0.1)\n",
    "Q3 = USAhousing['Price'].quantile(0.9)\n",
    "IQR = Q3 - Q1\n",
    "USAhousing = USAhousing[(USAhousing['Price'] >= Q3 - 1.5*IQR) & (USAhousing['Price'] <= Q1 + 1.5*IQR)]\n",
    "sns.boxplot(USAhousing['Price'])"
   ]
  },
  {
   "cell_type": "code",
   "execution_count": 14,
   "id": "a7b5c877",
   "metadata": {},
   "outputs": [
    {
     "data": {
      "text/plain": [
       "<AxesSubplot:xlabel='Area Population'>"
      ]
     },
     "execution_count": 14,
     "metadata": {},
     "output_type": "execute_result"
    },
    {
     "data": {
      "image/png": "[encoded data removed]",
      "text/plain": [
       "<Figure size 432x288 with 1 Axes>"
      ]
     },
     "metadata": {
      "needs_background": "light"
     },
     "output_type": "display_data"
    }
   ],
   "source": [
    "Q1 = USAhousing['Area Population'].quantile(0.1)\n",
    "Q3 = USAhousing['Area Population'].quantile(0.9)\n",
    "IQR = Q3 - Q1\n",
    "USAhousing = USAhousing[(USAhousing['Area Population'] >= Q3 - 1.5*IQR) & (USAhousing['Area Population'] <= Q1 + 1.5*IQR)]\n",
    "sns.boxplot(USAhousing['Area Population'])"
   ]
  },
  {
   "cell_type": "code",
   "execution_count": 15,
   "id": "76acf536",
   "metadata": {},
   "outputs": [
    {
     "data": {
      "text/plain": [
       "<AxesSubplot:xlabel='Avg. Area Number of Rooms'>"
      ]
     },
     "execution_count": 15,
     "metadata": {},
     "output_type": "execute_result"
    },
    {
     "data": {
      "image/png": "[encoded data removed]",
      "text/plain": [
       "<Figure size 432x288 with 1 Axes>"
      ]
     },
     "metadata": {
      "needs_background": "light"
     },
     "output_type": "display_data"
    }
   ],
   "source": [
    "Q1 = USAhousing['Avg. Area Number of Rooms'].quantile(0.1)\n",
    "Q3 = USAhousing['Avg. Area Number of Rooms'].quantile(0.9)\n",
    "IQR = Q3 - Q1\n",
    "USAhousing = USAhousing[(USAhousing['Avg. Area Number of Rooms'] >= Q3 - 1.5*IQR) & (USAhousing['Avg. Area Number of Rooms'] <= Q1 + 1.5*IQR)]\n",
    "sns.boxplot(USAhousing['Avg. Area Number of Rooms'])"
   ]
  },
  {
   "cell_type": "code",
   "execution_count": 16,
   "id": "e5917580",
   "metadata": {},
   "outputs": [
    {
     "data": {
      "text/plain": [
       "<AxesSubplot:xlabel='Avg. Area House Age'>"
      ]
     },
     "execution_count": 16,
     "metadata": {},
     "output_type": "execute_result"
    },
    {
     "data": {
      "image/png": "[encoded data removed]",
      "text/plain": [
       "<Figure size 432x288 with 1 Axes>"
      ]
     },
     "metadata": {
      "needs_background": "light"
     },
     "output_type": "display_data"
    }
   ],
   "source": [
    "Q1 = USAhousing['Avg. Area House Age'].quantile(0.1)\n",
    "Q3 = USAhousing['Avg. Area House Age'].quantile(0.9)\n",
    "IQR = Q3 - Q1\n",
    "USAhousing = USAhousing[(USAhousing['Avg. Area House Age'] >= Q3 - 1.5*IQR) & (USAhousing['Avg. Area House Age'] <= Q1 + 1.5*IQR)]\n",
    "sns.boxplot(USAhousing['Avg. Area House Age'])"
   ]
  },
  {
   "cell_type": "code",
   "execution_count": 17,
   "id": "fb2ec3ae",
   "metadata": {},
   "outputs": [
    {
     "data": {
      "text/plain": [
       "<AxesSubplot:xlabel='Avg. Area Income'>"
      ]
     },
     "execution_count": 17,
     "metadata": {},
     "output_type": "execute_result"
    },
    {
     "data": {
      "image/png": "[encoded data removed]",
      "text/plain": [
       "<Figure size 432x288 with 1 Axes>"
      ]
     },
     "metadata": {
      "needs_background": "light"
     },
     "output_type": "display_data"
    }
   ],
   "source": [
    "Q1 = USAhousing['Avg. Area Income'].quantile(0.1)\n",
    "Q3 = USAhousing['Avg. Area Income'].quantile(0.9)\n",
    "IQR = Q3 - Q1\n",
    "USAhousing = USAhousing[(USAhousing['Avg. Area Income'] >= Q3 - 1.5*IQR) & (USAhousing['Avg. Area Income'] <= Q1 + 1.5*IQR)]\n",
    "sns.boxplot(USAhousing['Avg. Area Income'])"
   ]
  },
  {
   "cell_type": "code",
   "execution_count": 18,
   "id": "629fa6a4",
   "metadata": {},
   "outputs": [
    {
     "data": {
      "text/html": [
       "<div>\n",
       "<style scoped>\n",
       "    .dataframe tbody tr th:only-of-type {\n",
       "        vertical-align: middle;\n",
       "    }\n",
       "\n",
       "    .dataframe tbody tr th {\n",
       "        vertical-align: top;\n",
       "    }\n",
       "\n",
       "    .dataframe thead th {\n",
       "        text-align: right;\n",
       "    }\n",
       "</style>\n",
       "<table border=\"1\" class=\"dataframe\">\n",
       "  <thead>\n",
       "    <tr style=\"text-align: right;\">\n",
       "      <th></th>\n",
       "      <th>Avg. Area Income</th>\n",
       "      <th>Avg. Area House Age</th>\n",
       "      <th>Avg. Area Number of Rooms</th>\n",
       "      <th>Avg. Area Number of Bedrooms</th>\n",
       "      <th>Area Population</th>\n",
       "      <th>Price</th>\n",
       "    </tr>\n",
       "  </thead>\n",
       "  <tbody>\n",
       "    <tr>\n",
       "      <th>count</th>\n",
       "      <td>4761.000000</td>\n",
       "      <td>4761.000000</td>\n",
       "      <td>4761.000000</td>\n",
       "      <td>4761.000000</td>\n",
       "      <td>4761.000000</td>\n",
       "      <td>4761.000000</td>\n",
       "    </tr>\n",
       "    <tr>\n",
       "      <th>mean</th>\n",
       "      <td>6.855062</td>\n",
       "      <td>5.977643</td>\n",
       "      <td>6.989054</td>\n",
       "      <td>3.987326</td>\n",
       "      <td>3.609235</td>\n",
       "      <td>123.020394</td>\n",
       "    </tr>\n",
       "    <tr>\n",
       "      <th>std</th>\n",
       "      <td>1.006105</td>\n",
       "      <td>0.949879</td>\n",
       "      <td>0.972223</td>\n",
       "      <td>1.234074</td>\n",
       "      <td>0.952051</td>\n",
       "      <td>33.084881</td>\n",
       "    </tr>\n",
       "    <tr>\n",
       "      <th>min</th>\n",
       "      <td>4.224580</td>\n",
       "      <td>3.455061</td>\n",
       "      <td>4.406836</td>\n",
       "      <td>2.000000</td>\n",
       "      <td>1.095134</td>\n",
       "      <td>32.105896</td>\n",
       "    </tr>\n",
       "    <tr>\n",
       "      <th>1%</th>\n",
       "      <td>4.552668</td>\n",
       "      <td>3.857107</td>\n",
       "      <td>4.712768</td>\n",
       "      <td>2.020000</td>\n",
       "      <td>1.477175</td>\n",
       "      <td>48.217048</td>\n",
       "    </tr>\n",
       "    <tr>\n",
       "      <th>5%</th>\n",
       "      <td>5.155492</td>\n",
       "      <td>4.384030</td>\n",
       "      <td>5.365199</td>\n",
       "      <td>2.150000</td>\n",
       "      <td>2.027054</td>\n",
       "      <td>67.798826</td>\n",
       "    </tr>\n",
       "    <tr>\n",
       "      <th>10%</th>\n",
       "      <td>5.549701</td>\n",
       "      <td>4.739573</td>\n",
       "      <td>5.712521</td>\n",
       "      <td>2.310000</td>\n",
       "      <td>2.365548</td>\n",
       "      <td>78.904385</td>\n",
       "    </tr>\n",
       "    <tr>\n",
       "      <th>25%</th>\n",
       "      <td>6.160692</td>\n",
       "      <td>5.338032</td>\n",
       "      <td>6.309589</td>\n",
       "      <td>3.150000</td>\n",
       "      <td>2.945053</td>\n",
       "      <td>100.443032</td>\n",
       "    </tr>\n",
       "    <tr>\n",
       "      <th>50%</th>\n",
       "      <td>6.878520</td>\n",
       "      <td>5.975927</td>\n",
       "      <td>7.002864</td>\n",
       "      <td>4.050000</td>\n",
       "      <td>3.610637</td>\n",
       "      <td>123.200483</td>\n",
       "    </tr>\n",
       "    <tr>\n",
       "      <th>75%</th>\n",
       "      <td>7.549180</td>\n",
       "      <td>6.636131</td>\n",
       "      <td>7.661429</td>\n",
       "      <td>4.490000</td>\n",
       "      <td>4.272129</td>\n",
       "      <td>145.983479</td>\n",
       "    </tr>\n",
       "    <tr>\n",
       "      <th>90%</th>\n",
       "      <td>8.163891</td>\n",
       "      <td>7.207804</td>\n",
       "      <td>8.254120</td>\n",
       "      <td>6.100000</td>\n",
       "      <td>4.845702</td>\n",
       "      <td>165.766733</td>\n",
       "    </tr>\n",
       "    <tr>\n",
       "      <th>95%</th>\n",
       "      <td>8.542947</td>\n",
       "      <td>7.565375</td>\n",
       "      <td>8.575995</td>\n",
       "      <td>6.290000</td>\n",
       "      <td>5.190589</td>\n",
       "      <td>178.353484</td>\n",
       "    </tr>\n",
       "    <tr>\n",
       "      <th>99%</th>\n",
       "      <td>9.087207</td>\n",
       "      <td>8.138178</td>\n",
       "      <td>9.142991</td>\n",
       "      <td>6.460000</td>\n",
       "      <td>5.811363</td>\n",
       "      <td>196.176828</td>\n",
       "    </tr>\n",
       "    <tr>\n",
       "      <th>max</th>\n",
       "      <td>9.500079</td>\n",
       "      <td>8.485444</td>\n",
       "      <td>9.536239</td>\n",
       "      <td>6.500000</td>\n",
       "      <td>6.122400</td>\n",
       "      <td>213.871394</td>\n",
       "    </tr>\n",
       "  </tbody>\n",
       "</table>\n",
       "</div>"
      ],
      "text/plain": [
       "       Avg. Area Income  Avg. Area House Age  Avg. Area Number of Rooms  \\\n",
       "count       4761.000000          4761.000000                4761.000000   \n",
       "mean           6.855062             5.977643                   6.989054   \n",
       "std            1.006105             0.949879                   0.972223   \n",
       "min            4.224580             3.455061                   4.406836   \n",
       "1%             4.552668             3.857107                   4.712768   \n",
       "5%             5.155492             4.384030                   5.365199   \n",
       "10%            5.549701             4.739573                   5.712521   \n",
       "25%            6.160692             5.338032                   6.309589   \n",
       "50%            6.878520             5.975927                   7.002864   \n",
       "75%            7.549180             6.636131                   7.661429   \n",
       "90%            8.163891             7.207804                   8.254120   \n",
       "95%            8.542947             7.565375                   8.575995   \n",
       "99%            9.087207             8.138178                   9.142991   \n",
       "max            9.500079             8.485444                   9.536239   \n",
       "\n",
       "       Avg. Area Number of Bedrooms  Area Population        Price  \n",
       "count                   4761.000000      4761.000000  4761.000000  \n",
       "mean                       3.987326         3.609235   123.020394  \n",
       "std                        1.234074         0.952051    33.084881  \n",
       "min                        2.000000         1.095134    32.105896  \n",
       "1%                         2.020000         1.477175    48.217048  \n",
       "5%                         2.150000         2.027054    67.798826  \n",
       "10%                        2.310000         2.365548    78.904385  \n",
       "25%                        3.150000         2.945053   100.443032  \n",
       "50%                        4.050000         3.610637   123.200483  \n",
       "75%                        4.490000         4.272129   145.983479  \n",
       "90%                        6.100000         4.845702   165.766733  \n",
       "95%                        6.290000         5.190589   178.353484  \n",
       "99%                        6.460000         5.811363   196.176828  \n",
       "max                        6.500000         6.122400   213.871394  "
      ]
     },
     "execution_count": 18,
     "metadata": {},
     "output_type": "execute_result"
    }
   ],
   "source": [
    "USAhousing.describe(percentiles = [.01,.05,.10,.25,.5,.75,.90,.95,.99])"
   ]
  },
  {
   "cell_type": "code",
   "execution_count": 19,
   "id": "a6e62890",
   "metadata": {},
   "outputs": [
    {
     "data": {
      "text/plain": [
       "<AxesSubplot:>"
      ]
     },
     "execution_count": 19,
     "metadata": {},
     "output_type": "execute_result"
    },
    {
     "data": {
      "image/png": "[encoded data removed]",
      "text/plain": [
       "<Figure size 432x288 with 2 Axes>"
      ]
     },
     "metadata": {
      "needs_background": "light"
     },
     "output_type": "display_data"
    }
   ],
   "source": [
    "sns.heatmap(USAhousing.corr(), annot=True)"
   ]
  },
  {
   "cell_type": "code",
   "execution_count": 20,
   "id": "7cc953e1",
   "metadata": {},
   "outputs": [
    {
     "data": {
      "text/plain": [
       "<AxesSubplot:xlabel='Price', ylabel='Density'>"
      ]
     },
     "execution_count": 20,
     "metadata": {},
     "output_type": "execute_result"
    },
    {
     "data": {
      "image/png": "[encoded data removed]",
      "text/plain": [
       "<Figure size 432x288 with 1 Axes>"
      ]
     },
     "metadata": {
      "needs_background": "light"
     },
     "output_type": "display_data"
    }
   ],
   "source": [
    "sns.distplot(USAhousing['Price'])"
   ]
  },
  {
   "cell_type": "code",
   "execution_count": 21,
   "id": "11b150dd",
   "metadata": {},
   "outputs": [],
   "source": [
    "from sklearn.model_selection import train_test_split\n",
    "\n",
    "data = USAhousing\n",
    "df_train, df_test = train_test_split(data, train_size = 0.7, test_size = 0.3, random_state = 100)"
   ]
  },
  {
   "cell_type": "code",
   "execution_count": 22,
   "id": "7355d495",
   "metadata": {},
   "outputs": [],
   "source": [
    "from sklearn.preprocessing import StandardScaler\n",
    "scaler = StandardScaler()"
   ]
  },
  {
   "cell_type": "code",
   "execution_count": 23,
   "id": "c6cb2e85",
   "metadata": {},
   "outputs": [
    {
     "data": {
      "text/html": [
       "<div>\n",
       "<style scoped>\n",
       "    .dataframe tbody tr th:only-of-type {\n",
       "        vertical-align: middle;\n",
       "    }\n",
       "\n",
       "    .dataframe tbody tr th {\n",
       "        vertical-align: top;\n",
       "    }\n",
       "\n",
       "    .dataframe thead th {\n",
       "        text-align: right;\n",
       "    }\n",
       "</style>\n",
       "<table border=\"1\" class=\"dataframe\">\n",
       "  <thead>\n",
       "    <tr style=\"text-align: right;\">\n",
       "      <th></th>\n",
       "      <th>Avg. Area Income</th>\n",
       "      <th>Avg. Area House Age</th>\n",
       "      <th>Avg. Area Number of Rooms</th>\n",
       "      <th>Avg. Area Number of Bedrooms</th>\n",
       "      <th>Area Population</th>\n",
       "      <th>Price</th>\n",
       "    </tr>\n",
       "  </thead>\n",
       "  <tbody>\n",
       "    <tr>\n",
       "      <th>1876</th>\n",
       "      <td>-0.278249</td>\n",
       "      <td>-0.733485</td>\n",
       "      <td>-0.335931</td>\n",
       "      <td>-1.448763</td>\n",
       "      <td>0.485084</td>\n",
       "      <td>-0.958616</td>\n",
       "    </tr>\n",
       "    <tr>\n",
       "      <th>4829</th>\n",
       "      <td>0.173200</td>\n",
       "      <td>0.642907</td>\n",
       "      <td>0.423171</td>\n",
       "      <td>0.144145</td>\n",
       "      <td>-0.708961</td>\n",
       "      <td>0.826601</td>\n",
       "    </tr>\n",
       "    <tr>\n",
       "      <th>2441</th>\n",
       "      <td>0.097667</td>\n",
       "      <td>-0.502486</td>\n",
       "      <td>0.777288</td>\n",
       "      <td>0.281604</td>\n",
       "      <td>0.603286</td>\n",
       "      <td>0.813564</td>\n",
       "    </tr>\n",
       "    <tr>\n",
       "      <th>4167</th>\n",
       "      <td>-1.544786</td>\n",
       "      <td>-0.825656</td>\n",
       "      <td>2.650520</td>\n",
       "      <td>2.020056</td>\n",
       "      <td>-0.037449</td>\n",
       "      <td>-0.123902</td>\n",
       "    </tr>\n",
       "    <tr>\n",
       "      <th>1256</th>\n",
       "      <td>-0.710580</td>\n",
       "      <td>-0.687123</td>\n",
       "      <td>0.552423</td>\n",
       "      <td>0.192660</td>\n",
       "      <td>1.443921</td>\n",
       "      <td>0.602663</td>\n",
       "    </tr>\n",
       "    <tr>\n",
       "      <th>1112</th>\n",
       "      <td>-1.734814</td>\n",
       "      <td>-0.616171</td>\n",
       "      <td>0.346458</td>\n",
       "      <td>1.825996</td>\n",
       "      <td>0.612513</td>\n",
       "      <td>-1.508024</td>\n",
       "    </tr>\n",
       "    <tr>\n",
       "      <th>2714</th>\n",
       "      <td>0.996633</td>\n",
       "      <td>-0.823083</td>\n",
       "      <td>-1.471373</td>\n",
       "      <td>0.039029</td>\n",
       "      <td>-1.173118</td>\n",
       "      <td>-0.894076</td>\n",
       "    </tr>\n",
       "    <tr>\n",
       "      <th>3284</th>\n",
       "      <td>-1.906799</td>\n",
       "      <td>1.211126</td>\n",
       "      <td>0.581561</td>\n",
       "      <td>-0.664438</td>\n",
       "      <td>-0.883967</td>\n",
       "      <td>-1.153159</td>\n",
       "    </tr>\n",
       "    <tr>\n",
       "      <th>2589</th>\n",
       "      <td>0.812691</td>\n",
       "      <td>1.529219</td>\n",
       "      <td>-0.243200</td>\n",
       "      <td>0.176488</td>\n",
       "      <td>-0.530336</td>\n",
       "      <td>0.977316</td>\n",
       "    </tr>\n",
       "    <tr>\n",
       "      <th>2180</th>\n",
       "      <td>0.539560</td>\n",
       "      <td>-0.053791</td>\n",
       "      <td>-1.120361</td>\n",
       "      <td>-0.729124</td>\n",
       "      <td>0.288072</td>\n",
       "      <td>0.021403</td>\n",
       "    </tr>\n",
       "  </tbody>\n",
       "</table>\n",
       "</div>"
      ],
      "text/plain": [
       "      Avg. Area Income  Avg. Area House Age  Avg. Area Number of Rooms  \\\n",
       "1876         -0.278249            -0.733485                  -0.335931   \n",
       "4829          0.173200             0.642907                   0.423171   \n",
       "2441          0.097667            -0.502486                   0.777288   \n",
       "4167         -1.544786            -0.825656                   2.650520   \n",
       "1256         -0.710580            -0.687123                   0.552423   \n",
       "1112         -1.734814            -0.616171                   0.346458   \n",
       "2714          0.996633            -0.823083                  -1.471373   \n",
       "3284         -1.906799             1.211126                   0.581561   \n",
       "2589          0.812691             1.529219                  -0.243200   \n",
       "2180          0.539560            -0.053791                  -1.120361   \n",
       "\n",
       "      Avg. Area Number of Bedrooms  Area Population     Price  \n",
       "1876                     -1.448763         0.485084 -0.958616  \n",
       "4829                      0.144145        -0.708961  0.826601  \n",
       "2441                      0.281604         0.603286  0.813564  \n",
       "4167                      2.020056        -0.037449 -0.123902  \n",
       "1256                      0.192660         1.443921  0.602663  \n",
       "1112                      1.825996         0.612513 -1.508024  \n",
       "2714                      0.039029        -1.173118 -0.894076  \n",
       "3284                     -0.664438        -0.883967 -1.153159  \n",
       "2589                      0.176488        -0.530336  0.977316  \n",
       "2180                     -0.729124         0.288072  0.021403  "
      ]
     },
     "execution_count": 23,
     "metadata": {},
     "output_type": "execute_result"
    }
   ],
   "source": [
    "num_vars = data.columns\n",
    "\n",
    "num_vars = list(num_vars)\n",
    "\n",
    "df_train[num_vars] = scaler.fit_transform(df_train[num_vars])\n",
    "\n",
    "df_train.head(10)"
   ]
  },
  {
   "cell_type": "code",
   "execution_count": 24,
   "id": "0301366a",
   "metadata": {},
   "outputs": [
    {
     "data": {
      "text/html": [
       "<div>\n",
       "<style scoped>\n",
       "    .dataframe tbody tr th:only-of-type {\n",
       "        vertical-align: middle;\n",
       "    }\n",
       "\n",
       "    .dataframe tbody tr th {\n",
       "        vertical-align: top;\n",
       "    }\n",
       "\n",
       "    .dataframe thead th {\n",
       "        text-align: right;\n",
       "    }\n",
       "</style>\n",
       "<table border=\"1\" class=\"dataframe\">\n",
       "  <thead>\n",
       "    <tr style=\"text-align: right;\">\n",
       "      <th></th>\n",
       "      <th>Avg. Area Income</th>\n",
       "      <th>Avg. Area House Age</th>\n",
       "      <th>Avg. Area Number of Rooms</th>\n",
       "      <th>Avg. Area Number of Bedrooms</th>\n",
       "      <th>Area Population</th>\n",
       "      <th>Price</th>\n",
       "    </tr>\n",
       "  </thead>\n",
       "  <tbody>\n",
       "    <tr>\n",
       "      <th>2568</th>\n",
       "      <td>-0.028582</td>\n",
       "      <td>1.491033</td>\n",
       "      <td>-0.754846</td>\n",
       "      <td>0.075729</td>\n",
       "      <td>-0.634413</td>\n",
       "      <td>0.633975</td>\n",
       "    </tr>\n",
       "    <tr>\n",
       "      <th>522</th>\n",
       "      <td>0.327310</td>\n",
       "      <td>1.599791</td>\n",
       "      <td>-0.323842</td>\n",
       "      <td>0.263123</td>\n",
       "      <td>-0.478698</td>\n",
       "      <td>0.615851</td>\n",
       "    </tr>\n",
       "    <tr>\n",
       "      <th>4187</th>\n",
       "      <td>-0.233514</td>\n",
       "      <td>-2.269243</td>\n",
       "      <td>0.948472</td>\n",
       "      <td>0.874191</td>\n",
       "      <td>-0.970709</td>\n",
       "      <td>-1.786414</td>\n",
       "    </tr>\n",
       "    <tr>\n",
       "      <th>3651</th>\n",
       "      <td>-0.376145</td>\n",
       "      <td>1.711488</td>\n",
       "      <td>-0.075142</td>\n",
       "      <td>0.377189</td>\n",
       "      <td>-0.821553</td>\n",
       "      <td>-0.186776</td>\n",
       "    </tr>\n",
       "    <tr>\n",
       "      <th>4150</th>\n",
       "      <td>-0.504540</td>\n",
       "      <td>-0.296673</td>\n",
       "      <td>0.960973</td>\n",
       "      <td>0.140909</td>\n",
       "      <td>-1.598896</td>\n",
       "      <td>-0.760908</td>\n",
       "    </tr>\n",
       "    <tr>\n",
       "      <th>987</th>\n",
       "      <td>-0.035123</td>\n",
       "      <td>0.512091</td>\n",
       "      <td>1.816731</td>\n",
       "      <td>0.067581</td>\n",
       "      <td>-0.190466</td>\n",
       "      <td>1.285671</td>\n",
       "    </tr>\n",
       "    <tr>\n",
       "      <th>2266</th>\n",
       "      <td>0.463986</td>\n",
       "      <td>0.530053</td>\n",
       "      <td>-0.107508</td>\n",
       "      <td>0.401632</td>\n",
       "      <td>-0.360590</td>\n",
       "      <td>0.338715</td>\n",
       "    </tr>\n",
       "    <tr>\n",
       "      <th>2874</th>\n",
       "      <td>-0.978142</td>\n",
       "      <td>1.004770</td>\n",
       "      <td>2.488894</td>\n",
       "      <td>2.031148</td>\n",
       "      <td>0.395285</td>\n",
       "      <td>1.227681</td>\n",
       "    </tr>\n",
       "    <tr>\n",
       "      <th>4806</th>\n",
       "      <td>-0.191385</td>\n",
       "      <td>-0.870929</td>\n",
       "      <td>0.660291</td>\n",
       "      <td>-0.462012</td>\n",
       "      <td>0.019158</td>\n",
       "      <td>-0.423106</td>\n",
       "    </tr>\n",
       "    <tr>\n",
       "      <th>811</th>\n",
       "      <td>-0.581257</td>\n",
       "      <td>-1.352117</td>\n",
       "      <td>0.920464</td>\n",
       "      <td>-0.608668</td>\n",
       "      <td>0.143630</td>\n",
       "      <td>-1.155095</td>\n",
       "    </tr>\n",
       "  </tbody>\n",
       "</table>\n",
       "</div>"
      ],
      "text/plain": [
       "      Avg. Area Income  Avg. Area House Age  Avg. Area Number of Rooms  \\\n",
       "2568         -0.028582             1.491033                  -0.754846   \n",
       "522           0.327310             1.599791                  -0.323842   \n",
       "4187         -0.233514            -2.269243                   0.948472   \n",
       "3651         -0.376145             1.711488                  -0.075142   \n",
       "4150         -0.504540            -0.296673                   0.960973   \n",
       "987          -0.035123             0.512091                   1.816731   \n",
       "2266          0.463986             0.530053                  -0.107508   \n",
       "2874         -0.978142             1.004770                   2.488894   \n",
       "4806         -0.191385            -0.870929                   0.660291   \n",
       "811          -0.581257            -1.352117                   0.920464   \n",
       "\n",
       "      Avg. Area Number of Bedrooms  Area Population     Price  \n",
       "2568                      0.075729        -0.634413  0.633975  \n",
       "522                       0.263123        -0.478698  0.615851  \n",
       "4187                      0.874191        -0.970709 -1.786414  \n",
       "3651                      0.377189        -0.821553 -0.186776  \n",
       "4150                      0.140909        -1.598896 -0.760908  \n",
       "987                       0.067581        -0.190466  1.285671  \n",
       "2266                      0.401632        -0.360590  0.338715  \n",
       "2874                      2.031148         0.395285  1.227681  \n",
       "4806                     -0.462012         0.019158 -0.423106  \n",
       "811                      -0.608668         0.143630 -1.155095  "
      ]
     },
     "execution_count": 24,
     "metadata": {},
     "output_type": "execute_result"
    }
   ],
   "source": [
    "num_vars = data.columns\n",
    "\n",
    "num_vars = list(num_vars)\n",
    "\n",
    "df_test[num_vars] = scaler.fit_transform(df_test[num_vars])\n",
    "\n",
    "df_test.head(10)"
   ]
  },
  {
   "cell_type": "code",
   "execution_count": 25,
   "id": "1daa6617",
   "metadata": {},
   "outputs": [],
   "source": [
    "y_train = df_train.pop('Price')\n",
    "X_train = df_train\n",
    "y_test = df_test.pop('Price')\n",
    "X_test = df_test"
   ]
  },
  {
   "cell_type": "markdown",
   "id": "06cf2b33",
   "metadata": {},
   "source": [
    "# KNN by cross validation"
   ]
  },
  {
   "cell_type": "code",
   "execution_count": 26,
   "id": "e96d3ff8",
   "metadata": {},
   "outputs": [],
   "source": [
    "from sklearn.neighbors import KNeighborsRegressor\n",
    "from sklearn.model_selection import cross_val_score"
   ]
  },
  {
   "cell_type": "code",
   "execution_count": 27,
   "id": "14d23744",
   "metadata": {},
   "outputs": [],
   "source": [
    "score = []\n",
    "for k in range(1,50):\n",
    "    reg = KNeighborsRegressor(n_neighbors = k, p=2, metric='minkowski')\n",
    "    reg.fit(X_train, y_train)\n",
    "    score.append(reg.score(X_test, y_test ))"
   ]
  },
  {
   "cell_type": "code",
   "execution_count": 28,
   "id": "dd541282",
   "metadata": {},
   "outputs": [
    {
     "data": {
      "text/plain": [
       "<Figure size 432x288 with 0 Axes>"
      ]
     },
     "metadata": {},
     "output_type": "display_data"
    },
    {
     "data": {
      "image/png": "[encoded data removed]",
      "text/plain": [
       "<Figure size 1080x720 with 1 Axes>"
      ]
     },
     "metadata": {
      "needs_background": "light"
     },
     "output_type": "display_data"
    }
   ],
   "source": [
    "li = np.arange(1,50)\n",
    "plt.figure()\n",
    "plt.figure(figsize=(15,10))\n",
    "plt.title('The optimal number of neighbors', fontsize=20, fontweight='bold')\n",
    "plt.xlabel('Number of Neighbors K', fontsize=15)\n",
    "plt.ylabel('Accuracy', fontsize=15)\n",
    "sns.set_style(\"whitegrid\")\n",
    "plt.plot(li, score)\n",
    "\n",
    "plt.show()"
   ]
  },
  {
   "cell_type": "code",
   "execution_count": 29,
   "id": "89da6116",
   "metadata": {},
   "outputs": [
    {
     "name": "stdout",
     "output_type": "stream",
     "text": [
      "At K = 14, Max Accuracy = 86.93144939437335\n"
     ]
    }
   ],
   "source": [
    "k_max = score.index(max(score))+1\n",
    "print( \"At K = {}, Max Accuracy = {}\".format(k_max, max(score)*100))"
   ]
  },
  {
   "cell_type": "code",
   "execution_count": 30,
   "id": "9286204d",
   "metadata": {},
   "outputs": [
    {
     "data": {
      "text/plain": [
       "KNeighborsRegressor(n_neighbors=14)"
      ]
     },
     "execution_count": 30,
     "metadata": {},
     "output_type": "execute_result"
    }
   ],
   "source": [
    "reg = KNeighborsRegressor(n_neighbors = 14, p=2, metric='minkowski')\n",
    "reg.fit(X_train, y_train)"
   ]
  },
  {
   "cell_type": "code",
   "execution_count": 31,
   "id": "8e1b4ed3",
   "metadata": {},
   "outputs": [
    {
     "data": {
      "text/plain": [
       "0.8858804328431611"
      ]
     },
     "execution_count": 31,
     "metadata": {},
     "output_type": "execute_result"
    }
   ],
   "source": [
    "reg.score(X_train, y_train)    #train accuracy"
   ]
  },
  {
   "cell_type": "code",
   "execution_count": 32,
   "id": "ae6de663",
   "metadata": {},
   "outputs": [
    {
     "data": {
      "text/plain": [
       "0.8693144939437335"
      ]
     },
     "execution_count": 32,
     "metadata": {},
     "output_type": "execute_result"
    }
   ],
   "source": [
    "reg.score(X_test, y_test)      #test accuracy"
   ]
  },
  {
   "cell_type": "code",
   "execution_count": 33,
   "id": "e7932e94",
   "metadata": {},
   "outputs": [
    {
     "data": {
      "text/plain": [
       "(3332, 5)"
      ]
     },
     "execution_count": 33,
     "metadata": {},
     "output_type": "execute_result"
    }
   ],
   "source": [
    "X_train.shape"
   ]
  },
  {
   "cell_type": "code",
   "execution_count": 34,
   "id": "fa527c07",
   "metadata": {},
   "outputs": [],
   "source": [
    "y_pred = reg.predict(X_test)"
   ]
  },
  {
   "cell_type": "code",
   "execution_count": 39,
   "id": "c6fac116",
   "metadata": {},
   "outputs": [],
   "source": [
    "y_comp=pd.DataFrame({\"Predict\" : y_pred,\"Actual\" : y_test})"
   ]
  },
  {
   "cell_type": "code",
   "execution_count": 40,
   "id": "16c92419",
   "metadata": {},
   "outputs": [
    {
     "data": {
      "text/html": [
       "<div>\n",
       "<style scoped>\n",
       "    .dataframe tbody tr th:only-of-type {\n",
       "        vertical-align: middle;\n",
       "    }\n",
       "\n",
       "    .dataframe tbody tr th {\n",
       "        vertical-align: top;\n",
       "    }\n",
       "\n",
       "    .dataframe thead th {\n",
       "        text-align: right;\n",
       "    }\n",
       "</style>\n",
       "<table border=\"1\" class=\"dataframe\">\n",
       "  <thead>\n",
       "    <tr style=\"text-align: right;\">\n",
       "      <th></th>\n",
       "      <th>Predict</th>\n",
       "      <th>Actual</th>\n",
       "    </tr>\n",
       "  </thead>\n",
       "  <tbody>\n",
       "    <tr>\n",
       "      <th>2568</th>\n",
       "      <td>0.202452</td>\n",
       "      <td>0.633975</td>\n",
       "    </tr>\n",
       "    <tr>\n",
       "      <th>522</th>\n",
       "      <td>0.703784</td>\n",
       "      <td>0.615851</td>\n",
       "    </tr>\n",
       "    <tr>\n",
       "      <th>4187</th>\n",
       "      <td>-0.844454</td>\n",
       "      <td>-1.786414</td>\n",
       "    </tr>\n",
       "    <tr>\n",
       "      <th>3651</th>\n",
       "      <td>0.403114</td>\n",
       "      <td>-0.186776</td>\n",
       "    </tr>\n",
       "    <tr>\n",
       "      <th>4150</th>\n",
       "      <td>-0.674172</td>\n",
       "      <td>-0.760908</td>\n",
       "    </tr>\n",
       "    <tr>\n",
       "      <th>...</th>\n",
       "      <td>...</td>\n",
       "      <td>...</td>\n",
       "    </tr>\n",
       "    <tr>\n",
       "      <th>1272</th>\n",
       "      <td>1.128264</td>\n",
       "      <td>1.542573</td>\n",
       "    </tr>\n",
       "    <tr>\n",
       "      <th>4256</th>\n",
       "      <td>0.009589</td>\n",
       "      <td>0.525116</td>\n",
       "    </tr>\n",
       "    <tr>\n",
       "      <th>3517</th>\n",
       "      <td>0.570229</td>\n",
       "      <td>-0.152300</td>\n",
       "    </tr>\n",
       "    <tr>\n",
       "      <th>1637</th>\n",
       "      <td>-0.226308</td>\n",
       "      <td>0.286018</td>\n",
       "    </tr>\n",
       "    <tr>\n",
       "      <th>3006</th>\n",
       "      <td>1.251673</td>\n",
       "      <td>0.870868</td>\n",
       "    </tr>\n",
       "  </tbody>\n",
       "</table>\n",
       "<p>1429 rows × 2 columns</p>\n",
       "</div>"
      ],
      "text/plain": [
       "       Predict    Actual\n",
       "2568  0.202452  0.633975\n",
       "522   0.703784  0.615851\n",
       "4187 -0.844454 -1.786414\n",
       "3651  0.403114 -0.186776\n",
       "4150 -0.674172 -0.760908\n",
       "...        ...       ...\n",
       "1272  1.128264  1.542573\n",
       "4256  0.009589  0.525116\n",
       "3517  0.570229 -0.152300\n",
       "1637 -0.226308  0.286018\n",
       "3006  1.251673  0.870868\n",
       "\n",
       "[1429 rows x 2 columns]"
      ]
     },
     "execution_count": 40,
     "metadata": {},
     "output_type": "execute_result"
    }
   ],
   "source": [
    "y_comp"
   ]
  },
  {
   "cell_type": "code",
   "execution_count": 41,
   "id": "11e9bb3f",
   "metadata": {},
   "outputs": [
    {
     "data": {
      "text/plain": [
       "0.8693144939437335"
      ]
     },
     "execution_count": 41,
     "metadata": {},
     "output_type": "execute_result"
    }
   ],
   "source": [
    "from sklearn.metrics import r2_score\n",
    "r2_score(y_test, y_pred)"
   ]
  },
  {
   "cell_type": "markdown",
   "id": "55900d76",
   "metadata": {},
   "source": [
    "# KNN by GridSearch"
   ]
  },
  {
   "cell_type": "code",
   "execution_count": 59,
   "id": "1741386d",
   "metadata": {},
   "outputs": [
    {
     "data": {
      "text/plain": [
       "GridSearchCV(cv=10, estimator=KNeighborsRegressor(),\n",
       "             param_grid={'n_neighbors': array([ 1,  2,  3,  4,  5,  6,  7,  8,  9, 10, 11, 12, 13, 14, 15, 16, 17,\n",
       "       18, 19, 20, 21, 22, 23, 24, 25, 26, 27, 28, 29, 30, 31, 32, 33, 34,\n",
       "       35, 36, 37, 38, 39, 40, 41, 42, 43, 44, 45, 46, 47, 48, 49])})"
      ]
     },
     "execution_count": 59,
     "metadata": {},
     "output_type": "execute_result"
    }
   ],
   "source": [
    "from sklearn.model_selection import GridSearchCV\n",
    "li = np.arange(1,50)\n",
    "knn_params = {\"n_neighbors\" : li}\n",
    "knn = KNeighborsRegressor()\n",
    "knn_cv_model = GridSearchCV(knn, knn_params, cv = 10)\n",
    "knn_cv_model.fit(X_train, y_train)"
   ]
  },
  {
   "cell_type": "code",
   "execution_count": 63,
   "id": "0b9caea6",
   "metadata": {},
   "outputs": [
    {
     "data": {
      "text/plain": [
       "10"
      ]
     },
     "execution_count": 63,
     "metadata": {},
     "output_type": "execute_result"
    }
   ],
   "source": [
    "knn_cv_model.best_params_[\"n_neighbors\"]"
   ]
  },
  {
   "cell_type": "code",
   "execution_count": 48,
   "id": "33c54d8d",
   "metadata": {},
   "outputs": [],
   "source": [
    "knn_model = KNeighborsRegressor(n_neighbors = knn_cv_model.best_params_[\"n_neighbors\"]).fit(X_train, y_train)\n",
    "predicted_values = knn_model.predict(X_test)"
   ]
  },
  {
   "cell_type": "code",
   "execution_count": 50,
   "id": "ad887385",
   "metadata": {},
   "outputs": [],
   "source": [
    "predict_df = pd.DataFrame({\"y_Test\" : y_test, \"y_Predicted\" : predicted_values})"
   ]
  },
  {
   "cell_type": "code",
   "execution_count": 55,
   "id": "367a886c",
   "metadata": {},
   "outputs": [
    {
     "name": "stdout",
     "output_type": "stream",
     "text": [
      "Mean Squared Error =  0.13221189022446914\n",
      "Root Mean Squared Error =  0.8677881097755309\n"
     ]
    }
   ],
   "source": [
    "from sklearn.metrics import mean_squared_error\n",
    "print(\"Mean Squared Error = \", mean_squared_error(predict_df.y_Test, predict_df.y_Predicted))\n",
    "print(\"Root Mean Squared Error = \", r2_score(predict_df.y_Test, predict_df.y_Predicted))"
   ]
  },
  {
   "cell_type": "code",
   "execution_count": null,
   "id": "863cacf7",
   "metadata": {},
   "outputs": [],
   "source": []
  }
 ],
 "metadata": {
  "kernelspec": {
   "display_name": "Python 3",
   "language": "python",
   "name": "python3"
  },
  "language_info": {
   "codemirror_mode": {
    "name": "ipython",
    "version": 3
   },
   "file_extension": ".py",
   "mimetype": "text/x-python",
   "name": "python",
   "nbconvert_exporter": "python",
   "pygments_lexer": "ipython3",
   "version": "3.8.10"
  }
 },
 "nbformat": 4,
 "nbformat_minor": 5
}
