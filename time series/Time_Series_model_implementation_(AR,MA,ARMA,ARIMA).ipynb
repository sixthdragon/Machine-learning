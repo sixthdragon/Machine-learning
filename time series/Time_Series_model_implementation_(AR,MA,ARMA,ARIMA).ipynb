{
 "cells": [
  {
   "cell_type": "markdown",
   "id": "e16b8e20",
   "metadata": {},
   "source": [
    "# Implementation Of Time Series Model"
   ]
  },
  {
   "cell_type": "code",
   "execution_count": 3,
   "id": "604001b0",
   "metadata": {},
   "outputs": [
    {
     "data": {
      "text/html": [
       "        <script type=\"text/javascript\">\n",
       "        window.PlotlyConfig = {MathJaxConfig: 'local'};\n",
       "        if (window.MathJax) {MathJax.Hub.Config({SVG: {font: \"STIX-Web\"}});}\n",
       "        if (typeof require !== 'undefined') {\n",
       "        require.undef(\"plotly\");\n",
       "        requirejs.config({\n",
       "            paths: {\n",
       "                'plotly': ['https://cdn.plot.ly/plotly-latest.min']\n",
       "            }\n",
       "        });\n",
       "        require(['plotly'], function(Plotly) {\n",
       "            window._Plotly = Plotly;\n",
       "        });\n",
       "        }\n",
       "        </script>\n",
       "        "
      ]
     },
     "metadata": {},
     "output_type": "display_data"
    }
   ],
   "source": [
    "import numpy as np \n",
    "import pandas as pd\n",
    "import plotly as py\n",
    "from plotly.offline import init_notebook_mode, iplot, plot\n",
    "\n",
    "init_notebook_mode(connected=True)\n",
    "import plotly.graph_objs as go\n",
    "import matplotlib.pyplot as plt\n",
    "import seaborn as sns\n"
   ]
  },
  {
   "cell_type": "code",
   "execution_count": 4,
   "id": "a452a31b",
   "metadata": {},
   "outputs": [],
   "source": [
    "data = pd.read_csv(r\"C:\\Users\\user\\Downloads\\cargoflash\\time\\DEOK_hourly1.csv\",header = 0 , index_col = 0)"
   ]
  },
  {
   "cell_type": "code",
   "execution_count": 5,
   "id": "f8fe15bb",
   "metadata": {},
   "outputs": [
    {
     "data": {
      "text/html": [
       "<div>\n",
       "<style scoped>\n",
       "    .dataframe tbody tr th:only-of-type {\n",
       "        vertical-align: middle;\n",
       "    }\n",
       "\n",
       "    .dataframe tbody tr th {\n",
       "        vertical-align: top;\n",
       "    }\n",
       "\n",
       "    .dataframe thead th {\n",
       "        text-align: right;\n",
       "    }\n",
       "</style>\n",
       "<table border=\"1\" class=\"dataframe\">\n",
       "  <thead>\n",
       "    <tr style=\"text-align: right;\">\n",
       "      <th></th>\n",
       "      <th>DEOK_MW</th>\n",
       "    </tr>\n",
       "    <tr>\n",
       "      <th>Datetime</th>\n",
       "      <th></th>\n",
       "    </tr>\n",
       "  </thead>\n",
       "  <tbody>\n",
       "    <tr>\n",
       "      <th>1/1/2012 1:00</th>\n",
       "      <td>2533</td>\n",
       "    </tr>\n",
       "    <tr>\n",
       "      <th>1/1/2012 2:00</th>\n",
       "      <td>2465</td>\n",
       "    </tr>\n",
       "    <tr>\n",
       "      <th>1/1/2012 3:00</th>\n",
       "      <td>2364</td>\n",
       "    </tr>\n",
       "    <tr>\n",
       "      <th>1/1/2012 4:00</th>\n",
       "      <td>2313</td>\n",
       "    </tr>\n",
       "    <tr>\n",
       "      <th>1/1/2012 5:00</th>\n",
       "      <td>2279</td>\n",
       "    </tr>\n",
       "    <tr>\n",
       "      <th>1/1/2012 6:00</th>\n",
       "      <td>2269</td>\n",
       "    </tr>\n",
       "    <tr>\n",
       "      <th>1/1/2012 7:00</th>\n",
       "      <td>2304</td>\n",
       "    </tr>\n",
       "    <tr>\n",
       "      <th>1/1/2012 8:00</th>\n",
       "      <td>2345</td>\n",
       "    </tr>\n",
       "    <tr>\n",
       "      <th>1/1/2012 9:00</th>\n",
       "      <td>2357</td>\n",
       "    </tr>\n",
       "    <tr>\n",
       "      <th>1/1/2012 10:00</th>\n",
       "      <td>2420</td>\n",
       "    </tr>\n",
       "  </tbody>\n",
       "</table>\n",
       "</div>"
      ],
      "text/plain": [
       "                DEOK_MW\n",
       "Datetime               \n",
       "1/1/2012 1:00      2533\n",
       "1/1/2012 2:00      2465\n",
       "1/1/2012 3:00      2364\n",
       "1/1/2012 4:00      2313\n",
       "1/1/2012 5:00      2279\n",
       "1/1/2012 6:00      2269\n",
       "1/1/2012 7:00      2304\n",
       "1/1/2012 8:00      2345\n",
       "1/1/2012 9:00      2357\n",
       "1/1/2012 10:00     2420"
      ]
     },
     "execution_count": 5,
     "metadata": {},
     "output_type": "execute_result"
    }
   ],
   "source": [
    "data.head(10)"
   ]
  },
  {
   "cell_type": "code",
   "execution_count": 6,
   "id": "13b5f4a6",
   "metadata": {},
   "outputs": [
    {
     "data": {
      "text/html": [
       "<div>\n",
       "<style scoped>\n",
       "    .dataframe tbody tr th:only-of-type {\n",
       "        vertical-align: middle;\n",
       "    }\n",
       "\n",
       "    .dataframe tbody tr th {\n",
       "        vertical-align: top;\n",
       "    }\n",
       "\n",
       "    .dataframe thead th {\n",
       "        text-align: right;\n",
       "    }\n",
       "</style>\n",
       "<table border=\"1\" class=\"dataframe\">\n",
       "  <thead>\n",
       "    <tr style=\"text-align: right;\">\n",
       "      <th></th>\n",
       "      <th>DEOK_MW</th>\n",
       "    </tr>\n",
       "    <tr>\n",
       "      <th>Datetime</th>\n",
       "      <th></th>\n",
       "    </tr>\n",
       "  </thead>\n",
       "  <tbody>\n",
       "    <tr>\n",
       "      <th>12/31/2012 14:00</th>\n",
       "      <td>3243</td>\n",
       "    </tr>\n",
       "    <tr>\n",
       "      <th>12/31/2012 15:00</th>\n",
       "      <td>3234</td>\n",
       "    </tr>\n",
       "    <tr>\n",
       "      <th>12/31/2012 16:00</th>\n",
       "      <td>3252</td>\n",
       "    </tr>\n",
       "    <tr>\n",
       "      <th>12/31/2012 17:00</th>\n",
       "      <td>3257</td>\n",
       "    </tr>\n",
       "    <tr>\n",
       "      <th>12/31/2012 18:00</th>\n",
       "      <td>3433</td>\n",
       "    </tr>\n",
       "    <tr>\n",
       "      <th>12/31/2012 19:00</th>\n",
       "      <td>3484</td>\n",
       "    </tr>\n",
       "    <tr>\n",
       "      <th>12/31/2012 20:00</th>\n",
       "      <td>3358</td>\n",
       "    </tr>\n",
       "    <tr>\n",
       "      <th>12/31/2012 21:00</th>\n",
       "      <td>3242</td>\n",
       "    </tr>\n",
       "    <tr>\n",
       "      <th>12/31/2012 22:00</th>\n",
       "      <td>3124</td>\n",
       "    </tr>\n",
       "    <tr>\n",
       "      <th>12/31/2012 23:00</th>\n",
       "      <td>2980</td>\n",
       "    </tr>\n",
       "  </tbody>\n",
       "</table>\n",
       "</div>"
      ],
      "text/plain": [
       "                  DEOK_MW\n",
       "Datetime                 \n",
       "12/31/2012 14:00     3243\n",
       "12/31/2012 15:00     3234\n",
       "12/31/2012 16:00     3252\n",
       "12/31/2012 17:00     3257\n",
       "12/31/2012 18:00     3433\n",
       "12/31/2012 19:00     3484\n",
       "12/31/2012 20:00     3358\n",
       "12/31/2012 21:00     3242\n",
       "12/31/2012 22:00     3124\n",
       "12/31/2012 23:00     2980"
      ]
     },
     "execution_count": 6,
     "metadata": {},
     "output_type": "execute_result"
    }
   ],
   "source": [
    "data.tail(10)"
   ]
  },
  {
   "cell_type": "code",
   "execution_count": 7,
   "id": "778d3ab0",
   "metadata": {},
   "outputs": [
    {
     "name": "stdout",
     "output_type": "stream",
     "text": [
      "<class 'pandas.core.frame.DataFrame'>\n",
      "Index: 8781 entries, 1/1/2012 1:00 to 12/31/2012 23:00\n",
      "Data columns (total 1 columns):\n",
      " #   Column   Non-Null Count  Dtype\n",
      "---  ------   --------------  -----\n",
      " 0   DEOK_MW  8781 non-null   int64\n",
      "dtypes: int64(1)\n",
      "memory usage: 137.2+ KB\n"
     ]
    }
   ],
   "source": [
    "data.info()"
   ]
  },
  {
   "cell_type": "code",
   "execution_count": 8,
   "id": "727b4179",
   "metadata": {},
   "outputs": [
    {
     "data": {
      "image/png": "[encoded data removed]",
      "text/plain": [
       "<Figure size 432x288 with 1 Axes>"
      ]
     },
     "metadata": {
      "needs_background": "light"
     },
     "output_type": "display_data"
    }
   ],
   "source": [
    "data.plot()\n",
    "plt.xticks(rotation = 90)\n",
    "plt.show()"
   ]
  },
  {
   "cell_type": "markdown",
   "id": "bb9fcefe",
   "metadata": {},
   "source": [
    "## Check for AutoCorrelation"
   ]
  },
  {
   "cell_type": "code",
   "execution_count": 9,
   "id": "44ad41dd",
   "metadata": {},
   "outputs": [
    {
     "data": {
      "image/png": "[encoded data removed]",
      "text/plain": [
       "<Figure size 432x288 with 1 Axes>"
      ]
     },
     "metadata": {
      "needs_background": "light"
     },
     "output_type": "display_data"
    }
   ],
   "source": [
    "from pandas.plotting import lag_plot\n",
    "lag_plot(data)\n",
    "plt.show()"
   ]
  },
  {
   "cell_type": "code",
   "execution_count": 10,
   "id": "87688e84",
   "metadata": {},
   "outputs": [
    {
     "name": "stdout",
     "output_type": "stream",
     "text": [
      "          t-1       t+1\n",
      "t-1  1.000000  0.976333\n",
      "t+1  0.976333  1.000000\n"
     ]
    }
   ],
   "source": [
    "values = pd.DataFrame(data.values)\n",
    "dataframe = pd.concat([values.shift(1), values], axis=1)\n",
    "dataframe.columns = ['t-1', 't+1']\n",
    "result = dataframe.corr()\n",
    "print(result)"
   ]
  },
  {
   "cell_type": "code",
   "execution_count": 11,
   "id": "6a965d32",
   "metadata": {},
   "outputs": [
    {
     "name": "stdout",
     "output_type": "stream",
     "text": [
      "0.7587809415898322\n"
     ]
    },
    {
     "data": {
      "image/png": "[encoded data removed]",
      "text/plain": [
       "<Figure size 432x288 with 1 Axes>"
      ]
     },
     "metadata": {
      "needs_background": "light"
     },
     "output_type": "display_data"
    }
   ],
   "source": [
    "from sklearn.metrics import mean_squared_error\n",
    "from sklearn.metrics import r2_score\n",
    "\n",
    "X = dataframe.values\n",
    "train, test = X[1:len(X)-20], X[len(X)-20:]\n",
    "train_X, train_y = train[:,0], train[:,1]\n",
    "test_X, test_y = test[:,0], test[:,1]\n",
    "\n",
    "# persistence model\n",
    "\n",
    "def model_persistence(x):\n",
    "    return(x)\n",
    "\n",
    "# Validations\n",
    "\n",
    "predictions = list()\n",
    "\n",
    "for x in test_X:\n",
    "    yhat = model_persistence(x)\n",
    "    predictions.append(yhat)\n",
    "\n",
    "test_score = r2_score(test_y , predictions)\n",
    "\n",
    "print(test_score)\n",
    "\n",
    "# Actual Vs Predicted plot\n",
    "\n",
    "plt.plot(test_y)\n",
    "plt.plot(predictions , color = 'red')\n",
    "plt.show()"
   ]
  },
  {
   "cell_type": "markdown",
   "id": "41034d06",
   "metadata": {},
   "source": [
    "## Implementing AR Model in python"
   ]
  },
  {
   "cell_type": "code",
   "execution_count": 12,
   "id": "2f2cc923",
   "metadata": {},
   "outputs": [],
   "source": [
    "from statsmodels.tsa.ar_model import AutoReg\n",
    "from sklearn.metrics import mean_squared_error\n",
    "from math import sqrt"
   ]
  },
  {
   "cell_type": "code",
   "execution_count": 13,
   "id": "a2f39ede",
   "metadata": {},
   "outputs": [
    {
     "name": "stderr",
     "output_type": "stream",
     "text": [
      "C:\\Users\\user\\anaconda3\\lib\\site-packages\\statsmodels\\tsa\\ar_model.py:248: FutureWarning:\n",
      "\n",
      "The parameter names will change after 0.12 is released. Set old_names to False to use the new names now. Set old_names to True to use the old names. \n",
      "\n"
     ]
    },
    {
     "name": "stdout",
     "output_type": "stream",
     "text": [
      "Coefficients: [ 4.54591915e+00  1.56292130e+00 -6.30725951e-01  4.89461769e-02\n",
      "  8.80973089e-03 -3.90198346e-02  1.11302821e-02  4.20906647e-03\n",
      " -9.51848372e-03  7.03130469e-03  9.87980508e-04  1.55844630e-02\n",
      "  1.62651764e-02 -6.14639438e-02  3.85358822e-02 -2.92485528e-04\n",
      " -1.87588861e-02  4.26403993e-02  1.03766316e-02 -2.14638217e-02\n",
      " -7.17520847e-03  1.13305631e-02 -1.67330513e-02  5.52189479e-02\n",
      "  1.71875548e-01 -2.92148098e-01  5.35335104e-02  3.50018318e-02\n",
      " -5.19574879e-03 -2.82776574e-04 -1.86998573e-02  9.89297081e-03\n",
      "  3.83958618e-03 -8.47353771e-03  1.78430235e-02  1.05753407e-03\n",
      " -5.18002495e-03 -2.69329065e-02  3.15411360e-02  1.15342865e-03\n",
      " -3.10796293e-02  1.52667489e-02  1.31156183e-02 -3.31636444e-02\n",
      "  2.86492214e-02 -5.09065422e-03 -2.95706983e-02  2.55303970e-02\n",
      "  9.50070338e-02 -1.45391522e-01  1.09622554e-01 -8.63298684e-02\n",
      "  3.05124375e-02 -8.96338984e-03  2.59683031e-02 -1.19601266e-02\n",
      " -1.36805188e-02  4.19426559e-03  1.85423155e-02 -1.91861597e-02\n",
      "  4.44492572e-03  5.93668308e-03 -1.54460044e-02 -1.73118763e-02\n",
      "  3.52401378e-02  6.55333410e-03 -2.82715779e-02  1.15536582e-02\n",
      " -3.15185740e-03  5.06169411e-03  5.10041585e-04 -1.15915392e-02\n",
      "  8.30991462e-02 -1.34385306e-01  5.02038552e-02  2.53912557e-02\n",
      "  6.09906510e-03  4.35504613e-03 -3.63679064e-02  1.65932605e-02\n",
      "  1.23239368e-02 -1.14284535e-02 -4.61213284e-03  1.31615402e-02\n",
      " -1.49477565e-02  1.65380809e-02 -1.70104438e-02  1.38854093e-02\n",
      " -2.92914872e-03 -2.78318916e-02  2.13712250e-02  3.83988246e-02\n",
      " -1.84222676e-02 -1.74760300e-02  5.81579250e-03 -2.34104462e-02\n",
      "  1.05946567e-01 -1.33648581e-01  5.75486622e-02  2.77639464e-04\n",
      " -2.86256777e-02  1.79699280e-02  1.23105635e-02 -3.38234501e-02\n",
      "  1.90875398e-02  2.07456207e-02 -4.96252212e-02  5.07422208e-02\n",
      " -1.96718929e-02  1.83558572e-03 -9.72226368e-03 -5.41427560e-03\n",
      "  7.92893332e-03  1.89500656e-02 -3.84650329e-02  2.28381864e-02\n",
      " -3.18566253e-03  2.10159055e-03 -2.06573015e-03 -4.14599692e-02\n",
      "  8.89188840e-02 -7.63973055e-02  5.41280426e-02 -2.11184943e-02\n",
      " -9.90754239e-03  1.58641921e-02 -4.30130506e-02  4.25537633e-02\n",
      "  1.45746612e-03 -1.19180965e-02 -4.52208330e-03  3.99578834e-02\n",
      " -5.88029415e-02  2.87358096e-02 -1.10110694e-02  1.71778264e-02\n",
      " -1.31062466e-02 -4.85275142e-03  1.93489955e-02 -7.77680399e-03\n",
      "  4.87011255e-02 -6.33572039e-02  5.51273799e-03  2.75490834e-02\n",
      "  5.09445247e-02 -1.22268203e-01  3.56793400e-02  2.66760214e-02\n",
      "  4.24771943e-03  5.94118649e-03 -2.11702356e-02  1.10167068e-02\n",
      " -1.44530207e-02  1.76709658e-02 -9.69810004e-03  1.67253364e-02\n",
      " -3.56582865e-02  2.34894020e-02 -3.36092203e-03  4.83448493e-03\n",
      " -1.78750141e-02  1.80170121e-02 -4.27865802e-03 -1.63710027e-02\n",
      "  1.35271268e-02 -4.25786302e-03 -1.40824426e-02  7.02276598e-02\n",
      "  1.29899187e-01 -2.65914507e-01  3.84384641e-02  4.98570408e-02\n",
      " -2.99204961e-03  3.51176594e-03 -2.14550610e-03  6.20322093e-03\n",
      "  1.73287473e-03  9.16305650e-03 -2.25023862e-02  1.12365473e-02\n",
      " -4.54205295e-02  8.58598637e-02 -5.94113472e-02  2.09939652e-02\n",
      " -1.83703711e-02  7.73376833e-03  1.38138474e-02 -2.92647125e-02\n",
      "  1.48912518e-02 -3.89562821e-04 -2.11395325e-02  3.70187647e-02\n",
      "  3.80430162e-02 -1.14741371e-01  8.32358286e-02 -2.06647127e-02\n",
      " -1.14871716e-02  2.24713158e-02  2.01551386e-02 -4.72921341e-02\n",
      "  2.22195230e-02 -1.57483529e-02  4.69923672e-02 -5.70694437e-02\n",
      "  4.62674463e-02 -1.99541220e-02  4.23226162e-03 -3.44478487e-02\n",
      "  6.43934864e-02 -4.89052736e-02 -1.37866484e-02  6.73403794e-02\n",
      " -6.46351269e-02  2.09523221e-02  2.59196045e-02 -5.39793316e-02\n",
      "  2.72155990e-02  2.00886698e-02 -2.18134542e-02  1.07206729e-03\n",
      "  1.18589930e-02 -3.94114268e-02  3.93974041e-02 -1.15404042e-02\n",
      "  2.42660663e-02 -3.76104336e-02  5.05518203e-03  1.00208644e-02\n",
      "  5.45225304e-04 -1.67027374e-02  4.35065812e-02 -3.31666617e-02\n",
      "  2.65457260e-02 -2.40900714e-02  1.30621291e-02 -1.04288467e-02\n",
      " -1.24472311e-02 -1.07789978e-03  3.85560397e-02 -3.89612548e-02\n",
      "  5.13444617e-02 -6.33509195e-02  3.70648921e-02 -1.20986346e-03\n",
      " -1.13884838e-02 -1.43297297e-02  1.49868918e-02 -1.05139172e-02\n",
      "  6.88014188e-04  3.30480392e-03  3.45426250e-02 -4.57342567e-02\n",
      "  3.65970830e-02 -3.99252364e-02  4.42396083e-02 -4.56348724e-02\n",
      "  2.29741926e-02 -3.62036341e-03  2.05806946e-02 -1.73173371e-02\n",
      " -5.72492081e-02  1.00479381e-01 -5.80937049e-02  1.24598561e-03\n",
      "  1.59550589e-02 -5.38228105e-03  1.15173176e-02 -1.32878877e-02\n",
      "  1.33585406e-02 -1.07117163e-02  1.95459174e-03  1.28481933e-02\n",
      " -2.24970279e-02  5.58963900e-02 -8.70557984e-02  2.64883639e-02\n",
      "  3.74360516e-02 -3.36366890e-02  1.00383748e-02  8.41499346e-03\n",
      "  8.56695601e-03 -3.66649893e-02  3.10089703e-02 -3.25510848e-02\n",
      "  5.13048416e-02 -2.41332586e-02 -9.51982675e-03 -8.07708587e-03\n",
      " -3.00001584e-03  6.78244031e-03  1.76866007e-02  2.71313486e-02\n",
      " -5.01615326e-02  4.96404912e-03  1.14180458e-02  1.40486839e-02\n",
      " -2.25774531e-03 -4.46965929e-02  5.28692124e-02 -2.21222197e-02\n",
      " -6.10484338e-03  1.27580941e-02  1.63228904e-03 -1.09777512e-03\n",
      " -2.06728395e-02  4.11670458e-02 -2.78081305e-02 -1.19783803e-02\n",
      " -1.02775401e-02  2.71282175e-02 -1.46295664e-02  5.52199193e-02\n",
      " -1.22771519e-02 -6.08082269e-02  4.01468985e-02 -1.04913594e-02\n",
      " -3.01834632e-02  2.27446584e-02  1.07377933e-02 -5.82434006e-03\n",
      " -1.28037425e-03 -1.24982778e-02  4.24695494e-02 -4.07984972e-02\n",
      "  2.46069158e-03  3.72202029e-02 -4.60468181e-02  2.56157193e-02\n",
      " -1.47764197e-04 -1.80316523e-02  5.89299727e-03  1.15722676e-02\n",
      " -1.12394775e-02 -8.94442132e-03  2.51072290e-02  3.26577561e-02\n",
      "  7.32695889e-02 -1.36286519e-01 -1.76458451e-02  5.67345720e-02\n",
      " -2.25231619e-02  3.42977521e-03  1.51507686e-02  1.69188146e-03\n",
      " -2.52686702e-02  2.95579342e-02 -1.86572494e-02 -1.97768462e-03\n",
      " -1.23629970e-03  2.05421907e-02 -2.42022544e-02  2.00750447e-02\n",
      " -2.97462773e-03 -2.59737004e-02  1.57773889e-02 -1.43737702e-02\n",
      "  1.06139014e-02  1.99152371e-02 -2.99953877e-02  1.26550843e-02\n",
      " -6.82961286e-03 -1.22323993e-02  2.73006949e-02 -1.64080830e-02\n",
      "  1.01343561e-02 -1.74758687e-03 -4.51997221e-03  2.64337623e-03\n",
      "  1.08944778e-02 -1.27985495e-02 -1.01258932e-02  7.86416492e-03\n",
      "  3.22095167e-03  6.54498798e-03 -1.09681274e-02  1.01526069e-03\n",
      "  4.18590081e-03  2.56153268e-02 -4.77027880e-02  4.59818289e-02\n",
      " -1.33810743e-02 -6.60915636e-03  2.11138635e-02 -8.08271459e-02\n",
      "  9.18574996e-03  5.51529680e-02 -4.38790778e-04 -1.07657503e-02\n",
      "  3.98787245e-02 -4.20370951e-02 -2.78880056e-03  1.36589146e-02\n",
      "  3.63618981e-03 -1.43198538e-02  4.83710517e-03 -1.69762575e-02\n",
      "  3.54453735e-02 -4.05194012e-02  4.05697230e-02 -2.42247166e-02\n",
      "  6.02007132e-03 -1.47474233e-02  4.42747507e-03  2.18039670e-02\n",
      "  3.77807002e-04 -1.09112513e-03  5.40130156e-03 -3.38672521e-02\n",
      "  2.21012766e-02 -3.67234892e-03  2.93950774e-02 -4.45089399e-02\n",
      " -2.20611906e-02  6.89153052e-02 -2.87329055e-02 -1.65501565e-03\n",
      " -6.32636533e-03  1.41257515e-03  7.75102945e-03 -1.94425154e-04\n",
      " -1.19767868e-02  2.37541497e-02 -3.88152917e-02  3.92480596e-02\n",
      " -2.14334843e-02  2.16673233e-02 -3.54916159e-02  1.11550699e-02\n",
      "  1.36539454e-02 -1.69808217e-02  2.97364001e-03  1.40901101e-02\n",
      " -3.25548606e-02  4.07146520e-02 -1.86101560e-02 -1.65286661e-02\n",
      "  4.01992803e-02 -3.30770486e-02  1.09810734e-02  1.21615542e-02\n",
      " -1.87556741e-02  9.13521973e-03 -1.99384982e-03 -7.78995891e-03\n",
      "  6.40853708e-03 -1.11084398e-02  2.27620005e-02 -8.07790003e-04\n",
      " -9.00839396e-03  1.38694636e-03  1.21489069e-02 -7.84056133e-03\n",
      " -2.28772007e-02  1.12062368e-02  3.17512992e-02  6.68790032e-03\n",
      " -6.34844057e-02  3.29126479e-02  3.49539267e-03 -2.47102591e-02\n",
      "  1.59129956e-02  2.82199840e-02 -2.86422248e-02 -6.81484449e-03\n",
      "  7.95707097e-03 -3.84356141e-03  1.21283265e-02 -4.50600449e-03\n",
      "  4.76193676e-03 -1.21397184e-03 -1.70548937e-02  1.28962684e-02\n",
      "  4.62989206e-04 -1.35826675e-02  1.24227892e-02 -2.68474601e-03\n",
      "  1.11657978e-02 -2.77649047e-02  3.34140860e-03  2.17103866e-02\n",
      " -1.88051328e-03  3.60389742e-02 -7.53637486e-02  3.96573724e-02\n",
      "  4.57499727e-03 -1.08969578e-02  6.51223405e-03 -1.60440632e-02\n",
      "  7.01043331e-03  2.14759909e-02 -3.97627282e-02  2.90383278e-02\n",
      " -1.29101893e-02  1.21421953e-02 -1.77859963e-03 -6.80380944e-05\n",
      " -1.38199950e-02  1.14690061e-02  7.12310145e-03 -1.76577966e-02\n",
      "  1.53309131e-02]\n",
      "predicted=2781.042590, expected=2812.000000\n",
      "predicted=2804.841332, expected=2860.000000\n",
      "predicted=2917.983856, expected=2957.000000\n",
      "predicted=3061.854683, expected=3072.000000\n",
      "predicted=3185.147863, expected=3182.000000\n",
      "predicted=3224.100545, expected=3192.000000\n",
      "predicted=3270.087744, expected=3266.000000\n",
      "predicted=3278.104967, expected=3308.000000\n",
      "predicted=3259.166850, expected=3316.000000\n",
      "predicted=3236.533817, expected=3280.000000\n",
      "predicted=3198.550047, expected=3243.000000\n",
      "predicted=3156.539472, expected=3234.000000\n",
      "predicted=3143.558173, expected=3252.000000\n",
      "predicted=3181.345391, expected=3257.000000\n",
      "predicted=3377.714879, expected=3433.000000\n",
      "predicted=3467.368931, expected=3484.000000\n",
      "predicted=3447.401455, expected=3358.000000\n",
      "predicted=3437.356251, expected=3242.000000\n",
      "predicted=3368.288241, expected=3124.000000\n",
      "predicted=3234.598021, expected=2980.000000\n",
      "Test RMSE: 102.991\n",
      "Test R2: 0.647\n"
     ]
    },
    {
     "data": {
      "image/png": "[encoded data removed]",
      "text/plain": [
       "<Figure size 432x288 with 1 Axes>"
      ]
     },
     "metadata": {
      "needs_background": "light"
     },
     "output_type": "display_data"
    }
   ],
   "source": [
    "# split dataset\n",
    "X = data.values\n",
    "train, test = X[1:len(X)-20], X[len(X)-20:]\n",
    "\n",
    "\n",
    "# train autoregression\n",
    "model = AutoReg(train, lags=500)\n",
    "model_fit = model.fit()\n",
    "print('Coefficients: %s' % model_fit.params)\n",
    "\n",
    "\n",
    "# make predictions\n",
    "predictions = model_fit.predict(start=len(train), end=len(train)+len(test)-1, dynamic=False)\n",
    "for i in range(len(predictions)):\n",
    "    print('predicted=%f, expected=%f' % (predictions[i], test[i]))\n",
    "rmse = sqrt(mean_squared_error(test, predictions))\n",
    "print('Test RMSE: %.3f' % rmse)\n",
    "r2 = r2_score(test, predictions)\n",
    "print('Test R2: %.3f' % r2)\n",
    "\n",
    "\n",
    "# plot results\n",
    "plt.plot(test)\n",
    "plt.plot(predictions, color='red')\n",
    "plt.show()"
   ]
  },
  {
   "cell_type": "markdown",
   "id": "4ca3e9ef",
   "metadata": {},
   "source": [
    "## Implementing MA Model in python"
   ]
  },
  {
   "cell_type": "markdown",
   "id": "08b96f63",
   "metadata": {},
   "source": [
    "## ARIMA(p,d,q)"
   ]
  },
  {
   "cell_type": "code",
   "execution_count": 14,
   "id": "e28d41d7",
   "metadata": {},
   "outputs": [
    {
     "name": "stdout",
     "output_type": "stream",
     "text": [
      "8761    2888.152359\n",
      "8762    2992.215038\n",
      "8763    2938.543052\n",
      "8764    3082.789900\n",
      "8765    3054.790232\n",
      "8766    3186.905150\n",
      "8767    3069.997605\n",
      "8768    3252.764238\n",
      "8769    3118.000347\n",
      "8770    3254.676326\n",
      "8771    3089.363807\n",
      "8772    3212.204667\n",
      "8773    3085.985925\n",
      "8774    3224.054716\n",
      "8775    3096.660407\n",
      "8776    3387.117006\n",
      "8777    3157.871607\n",
      "8778    3256.714290\n",
      "8779    3051.033190\n",
      "8780    3134.975286\n",
      "8781    2916.753374\n",
      "Name: predicted_mean, dtype: float64\n"
     ]
    }
   ],
   "source": [
    "from statsmodels.tsa.arima.model import ARIMA\n",
    "from random import random\n",
    "import warnings\n",
    "warnings.filterwarnings('ignore')\n",
    "\n",
    "# fit model\n",
    "model = ARIMA(data, order=(0, 0, 1))\n",
    "model_fit = model.fit()\n",
    "# make prediction\n",
    "yhat = model_fit.predict(len(data)-20, len(data))\n",
    "print(yhat)"
   ]
  },
  {
   "cell_type": "markdown",
   "id": "d42f3607",
   "metadata": {},
   "source": [
    "## Implementing ARMA Model in python"
   ]
  },
  {
   "cell_type": "code",
   "execution_count": 15,
   "id": "b1d3852d",
   "metadata": {},
   "outputs": [
    {
     "name": "stdout",
     "output_type": "stream",
     "text": [
      "8781    2863.213603\n",
      "dtype: float64\n"
     ]
    }
   ],
   "source": [
    "# fit model\n",
    "model = ARIMA(data, order=(2, 0, 1))\n",
    "model_fit = model.fit()\n",
    "# make prediction\n",
    "yhat = model_fit.predict(len(data), len(data))\n",
    "print(yhat)"
   ]
  },
  {
   "cell_type": "markdown",
   "id": "3ecdf41d",
   "metadata": {},
   "source": [
    "## Implementing ARIMA Model in python"
   ]
  },
  {
   "cell_type": "code",
   "execution_count": 16,
   "id": "5bf75c72",
   "metadata": {},
   "outputs": [
    {
     "name": "stdout",
     "output_type": "stream",
     "text": [
      "8781    2862.455811\n",
      "dtype: float64\n"
     ]
    }
   ],
   "source": [
    "# fit model\n",
    "model = ARIMA(data, order=(1, 1, 1))\n",
    "model_fit = model.fit()\n",
    "\n",
    "# make prediction\n",
    "yhat = model_fit.predict(len(data), len(data), typ='levels')\n",
    "print(yhat)"
   ]
  },
  {
   "cell_type": "code",
   "execution_count": null,
   "id": "7a8bc469",
   "metadata": {},
   "outputs": [],
   "source": []
  }
 ],
 "metadata": {
  "kernelspec": {
   "display_name": "Python 3",
   "language": "python",
   "name": "python3"
  },
  "language_info": {
   "codemirror_mode": {
    "name": "ipython",
    "version": 3
   },
   "file_extension": ".py",
   "mimetype": "text/x-python",
   "name": "python",
   "nbconvert_exporter": "python",
   "pygments_lexer": "ipython3",
   "version": "3.8.10"
  }
 },
 "nbformat": 4,
 "nbformat_minor": 5
}
